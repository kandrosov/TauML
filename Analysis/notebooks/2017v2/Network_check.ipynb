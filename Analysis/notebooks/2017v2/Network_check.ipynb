{
 "cells": [
  {
   "cell_type": "code",
   "execution_count": 21,
   "metadata": {},
   "outputs": [],
   "source": [
    "import sys\n",
    "import keras\n",
    "from keras import backend as K\n",
    "import tensorflow as tf\n",
    "import numpy as np\n",
    "sys.path.insert(0, \"../../python\")\n",
    "from common import *"
   ]
  },
  {
   "cell_type": "code",
   "execution_count": 4,
   "metadata": {},
   "outputs": [],
   "source": [
    "model = LoadModel('debug_v1.hdf5')"
   ]
  },
  {
   "cell_type": "code",
   "execution_count": 19,
   "metadata": {},
   "outputs": [],
   "source": [
    "sess = K.get_session()"
   ]
  },
  {
   "cell_type": "code",
   "execution_count": 41,
   "metadata": {},
   "outputs": [
    {
     "name": "stdout",
     "output_type": "stream",
     "text": [
      "inner_pfCand_conv_1           inner_pfCand_conv_1/kernel:0            False     -3.31161  2.63053   \n",
      "inner_pfCand_conv_1           inner_pfCand_conv_1/bias:0              False     -0.69696  0.66223   \n",
      "inner_ele_conv_1              inner_ele_conv_1/kernel:0               False     -1.80702  1.59392   \n",
      "inner_ele_conv_1              inner_ele_conv_1/bias:0                 False     -0.68141  0.70371   \n",
      "inner_muon_conv_1             inner_muon_conv_1/kernel:0              False     -1.41744  1.83606   \n",
      "inner_muon_conv_1             inner_muon_conv_1/bias:0                False     -0.78687  0.67829   \n",
      "inner_pfCand_conv_2           inner_pfCand_conv_2/kernel:0            False     -0.89708  1.00114   \n",
      "inner_pfCand_conv_2           inner_pfCand_conv_2/bias:0              False     -0.79305  0.57352   \n",
      "inner_ele_conv_2              inner_ele_conv_2/kernel:0               False     -0.82422  0.75526   \n",
      "inner_ele_conv_2              inner_ele_conv_2/bias:0                 False     -0.72887  0.67259   \n",
      "inner_muon_conv_2             inner_muon_conv_2/kernel:0              False     -0.78150  0.72688   \n",
      "inner_muon_conv_2             inner_muon_conv_2/bias:0                False     -0.67143  0.71915   \n",
      "inner_pfCand_conv_3           inner_pfCand_conv_3/kernel:0            False     -0.80763  0.81450   \n",
      "inner_pfCand_conv_3           inner_pfCand_conv_3/bias:0              False     -0.83712  0.52322   \n",
      "inner_ele_conv_3              inner_ele_conv_3/kernel:0               False     -0.96785  0.83050   \n",
      "inner_ele_conv_3              inner_ele_conv_3/bias:0                 False     -0.71873  0.64819   \n",
      "inner_muon_conv_3             inner_muon_conv_3/kernel:0              False     -0.92107  0.79300   \n",
      "inner_muon_conv_3             inner_muon_conv_3/bias:0                False     -0.73309  0.63895   \n",
      "inner_pfCand_conv_4           inner_pfCand_conv_4/kernel:0            False     -0.92237  0.57875   \n",
      "inner_pfCand_conv_4           inner_pfCand_conv_4/bias:0              False     -0.62620  0.63961   \n",
      "inner_ele_conv_4              inner_ele_conv_4/kernel:0               False     -1.05907  0.84590   \n",
      "inner_ele_conv_4              inner_ele_conv_4/bias:0                 False     -0.26128  0.67544   \n",
      "inner_muon_conv_4             inner_muon_conv_4/kernel:0              False     -0.91167  0.77364   \n",
      "inner_muon_conv_4             inner_muon_conv_4/bias:0                False     -0.48368  0.66690   \n",
      "outer_pfCand_conv_1           outer_pfCand_conv_1/kernel:0            False     -2.80362  2.19447   \n",
      "outer_pfCand_conv_1           outer_pfCand_conv_1/bias:0              False     -0.83112  0.91071   \n",
      "outer_ele_conv_1              outer_ele_conv_1/kernel:0               False     -3.75662  3.49074   \n",
      "outer_ele_conv_1              outer_ele_conv_1/bias:0                 False     -0.69763  0.59328   \n"
     ]
    },
    {
     "name": "stderr",
     "output_type": "stream",
     "text": [
      "/opt/local/Library/Frameworks/Python.framework/Versions/3.6/lib/python3.6/site-packages/numpy/core/fromnumeric.py:83: RuntimeWarning: invalid value encountered in reduce\n",
      "  return ufunc.reduce(obj, axis, dtype, out, **passkwargs)\n"
     ]
    },
    {
     "name": "stdout",
     "output_type": "stream",
     "text": [
      "outer_muon_conv_1             outer_muon_conv_1/kernel:0              True      nan       nan       \n",
      "outer_muon_conv_1             outer_muon_conv_1/bias:0                False     -0.46314  0.43198   \n",
      "outer_pfCand_conv_2           outer_pfCand_conv_2/kernel:0            False     -1.10400  0.97459   \n",
      "outer_pfCand_conv_2           outer_pfCand_conv_2/bias:0              False     -0.81112  0.62120   \n",
      "outer_ele_conv_2              outer_ele_conv_2/kernel:0               False     -1.13114  1.27309   \n",
      "outer_ele_conv_2              outer_ele_conv_2/bias:0                 False     -0.90307  0.60368   \n",
      "outer_muon_conv_2             outer_muon_conv_2/kernel:0              False     -0.89999  1.07610   \n",
      "outer_muon_conv_2             outer_muon_conv_2/bias:0                False     -0.63418  0.42934   \n",
      "inner_all_conv_1              inner_all_conv_1/kernel:0               False     -1.06475  0.88624   \n",
      "inner_all_conv_1              inner_all_conv_1/bias:0                 False     -0.50467  0.72332   \n",
      "outer_pfCand_conv_3           outer_pfCand_conv_3/kernel:0            False     -1.00909  1.08743   \n",
      "outer_pfCand_conv_3           outer_pfCand_conv_3/bias:0              False     -0.65410  0.88467   \n",
      "outer_ele_conv_3              outer_ele_conv_3/kernel:0               False     -0.96662  0.99207   \n",
      "outer_ele_conv_3              outer_ele_conv_3/bias:0                 False     -0.96228  0.60916   \n",
      "outer_muon_conv_3             outer_muon_conv_3/kernel:0              False     -1.02905  0.87339   \n",
      "outer_muon_conv_3             outer_muon_conv_3/bias:0                False     -0.89599  0.24310   \n",
      "inner_all_4x4_conv_1          inner_all_4x4_conv_1/kernel:0           False     -0.83146  0.82025   \n",
      "inner_all_4x4_conv_1          inner_all_4x4_conv_1/bias:0             False     -0.43531  0.16537   \n",
      "outer_pfCand_conv_4           outer_pfCand_conv_4/kernel:0            False     -0.90259  0.83834   \n",
      "outer_pfCand_conv_4           outer_pfCand_conv_4/bias:0              False     -0.67070  0.56532   \n",
      "outer_ele_conv_4              outer_ele_conv_4/kernel:0               False     -1.03286  0.75019   \n",
      "outer_ele_conv_4              outer_ele_conv_4/bias:0                 False     -0.90419  0.69744   \n",
      "outer_muon_conv_4             outer_muon_conv_4/kernel:0              False     -0.73540  0.61326   \n",
      "outer_muon_conv_4             outer_muon_conv_4/bias:0                False     -0.79384  0.31088   \n",
      "inner_all_4x4_conv_2          inner_all_4x4_conv_2/kernel:0           False     -0.66509  0.48778   \n",
      "inner_all_4x4_conv_2          inner_all_4x4_conv_2/bias:0             False     -0.43842  0.31524   \n",
      "inner_all_4x4_conv_3          inner_all_4x4_conv_3/kernel:0           False     -0.65185  0.81199   \n",
      "inner_all_4x4_conv_3          inner_all_4x4_conv_3/bias:0             False     -0.70841  0.27851   \n",
      "outer_all_conv_1              outer_all_conv_1/kernel:0               False     -1.11156  0.84152   \n",
      "outer_all_conv_1              outer_all_conv_1/bias:0                 False     -1.03369  0.71087   \n",
      "inner_all_4x4_conv_4          inner_all_4x4_conv_4/kernel:0           False     -0.61993  0.49742   \n",
      "inner_all_4x4_conv_4          inner_all_4x4_conv_4/bias:0             False     -0.26554  0.01313   \n",
      "outer_all_4x4_conv_1          outer_all_4x4_conv_1/kernel:0           False     -1.25397  1.03720   \n",
      "outer_all_4x4_conv_1          outer_all_4x4_conv_1/bias:0             False     -0.84878  0.73203   \n",
      "inner_all_4x4_conv_5          inner_all_4x4_conv_5/kernel:0           False     -0.71605  0.86854   \n",
      "inner_all_4x4_conv_5          inner_all_4x4_conv_5/bias:0             False     -0.79409  0.25580   \n",
      "outer_all_4x4_conv_2          outer_all_4x4_conv_2/kernel:0           False     -1.24152  0.79104   \n",
      "outer_all_4x4_conv_2          outer_all_4x4_conv_2/bias:0             False     -0.73335  0.52652   \n",
      "inner_all_4x4_conv_6          inner_all_4x4_conv_6/kernel:0           False     -0.59875  0.90065   \n",
      "inner_all_4x4_conv_6          inner_all_4x4_conv_6/bias:0             False     -0.66037  0.26439   \n",
      "outer_all_4x4_conv_3          outer_all_4x4_conv_3/kernel:0           False     -1.06316  0.94564   \n",
      "outer_all_4x4_conv_3          outer_all_4x4_conv_3/bias:0             False     -0.86518  0.07177   \n",
      "inner_all_3x3_conv_7          inner_all_3x3_conv_7/kernel:0           False     -0.73180  0.70643   \n",
      "inner_all_3x3_conv_7          inner_all_3x3_conv_7/bias:0             False     -0.70580  0.25539   \n",
      "outer_all_4x4_conv_4          outer_all_4x4_conv_4/kernel:0           False     -0.64507  1.29038   \n",
      "outer_all_4x4_conv_4          outer_all_4x4_conv_4/bias:0             False     -1.36139  0.19660   \n",
      "dense_1                       dense_1/kernel:0                        False     -12.40061 12.75457  \n",
      "dense_1                       dense_1/bias:0                          False     -2.33961  1.48675   \n",
      "dense_2                       dense_2/kernel:0                        False     -2.40549  1.51015   \n",
      "dense_2                       dense_2/bias:0                          False     -2.02849  0.83419   \n",
      "dense_3                       dense_3/kernel:0                        False     -1.33090  1.17156   \n",
      "dense_3                       dense_3/bias:0                          False     -1.95696  0.64574   \n",
      "dense_4                       dense_4/kernel:0                        False     -0.98005  0.86934   \n",
      "dense_4                       dense_4/bias:0                          False     -1.96343  0.80908   \n",
      "dense_5                       dense_5/kernel:0                        False     -1.12816  0.51111   \n",
      "dense_5                       dense_5/bias:0                          False     -0.91126  0.46979   \n",
      "dense_6                       dense_6/kernel:0                        False     -0.45527  0.46601   \n",
      "dense_6                       dense_6/bias:0                          False     -0.44221  0.25265   \n"
     ]
    }
   ],
   "source": [
    "n = 0\n",
    "for layer in model.layers:\n",
    "    for weight in layer.weights:\n",
    "        w = sess.run(tf.reshape(weight.value(), [-1]))\n",
    "        has_nans = np.any(np.isnan(w))\n",
    "        amin = np.amin(w)\n",
    "        amax = np.amax(w)\n",
    "        print(\"{:<30}{:<40}{:<10}{:<10.5f}{:<10.5f}\".format(layer.name, weight.name, str(has_nans), amin, amax))\n",
    "        \n",
    "    n += 1"
   ]
  },
  {
   "cell_type": "code",
   "execution_count": 24,
   "metadata": {},
   "outputs": [],
   "source": [
    "layer = model.get_layer(\"outer_muon_conv_1\")"
   ]
  },
  {
   "cell_type": "code",
   "execution_count": 31,
   "metadata": {},
   "outputs": [],
   "source": [
    "weight = layer."
   ]
  },
  {
   "cell_type": "code",
   "execution_count": 37,
   "metadata": {},
   "outputs": [
    {
     "name": "stdout",
     "output_type": "stream",
     "text": [
      "0 False\n",
      "1 False\n",
      "2 False\n",
      "3 False\n",
      "4 False\n",
      "5 False\n",
      "6 False\n",
      "7 False\n",
      "8 False\n",
      "9 True\n",
      "10 False\n",
      "11 False\n",
      "12 False\n",
      "13 False\n",
      "14 False\n",
      "15 False\n",
      "16 False\n",
      "17 False\n",
      "18 False\n",
      "19 False\n",
      "20 False\n",
      "21 False\n",
      "22 False\n",
      "23 False\n",
      "24 False\n",
      "25 False\n",
      "26 False\n",
      "27 False\n",
      "28 False\n",
      "29 False\n",
      "30 False\n",
      "31 False\n",
      "32 False\n",
      "33 False\n",
      "34 False\n",
      "35 False\n",
      "36 False\n",
      "37 False\n",
      "38 False\n"
     ]
    }
   ],
   "source": [
    "for weight in layer.weights:\n",
    "    if weight.name != 'outer_muon_conv_1/kernel:0': continue\n",
    "    w = np.array(sess.run(weight.value()))\n",
    "    for n in range(w.shape[2]):\n",
    "        print(n, np.any(np.isnan(w[0, 0, n, :])))\n",
    "#    for n in range(len(w)):\n",
    "#        print(n, w[n])\n",
    "#    has_nans = np.any(np.isnan(w))\n",
    "#    amin = np.amin(w)\n",
    "#    amax = np.amax(w)\n",
    "#    print(layer.name, weight.name, has_nans, amin, amax)\n"
   ]
  },
  {
   "cell_type": "code",
   "execution_count": null,
   "metadata": {},
   "outputs": [],
   "source": []
  }
 ],
 "metadata": {
  "kernelspec": {
   "display_name": "Python 3",
   "language": "python",
   "name": "python3"
  },
  "language_info": {
   "codemirror_mode": {
    "name": "ipython",
    "version": 3
   },
   "file_extension": ".py",
   "mimetype": "text/x-python",
   "name": "python",
   "nbconvert_exporter": "python",
   "pygments_lexer": "ipython3",
   "version": "3.6.8"
  }
 },
 "nbformat": 4,
 "nbformat_minor": 2
}
