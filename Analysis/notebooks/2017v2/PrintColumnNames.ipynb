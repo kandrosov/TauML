{
 "cells": [
  {
   "cell_type": "code",
   "execution_count": 1,
   "metadata": {},
   "outputs": [],
   "source": [
    "import uproot\n",
    "import pandas"
   ]
  },
  {
   "cell_type": "code",
   "execution_count": 2,
   "metadata": {},
   "outputs": [],
   "source": [
    "def ReadBranchesToDataFrame(file_name, tree_name, branches, entrystart=None, entrystop=None):\n",
    "    with uproot.open(file_name) as file:\n",
    "        tree = file[tree_name]\n",
    "        df = tree.arrays(branches, entrystart=entrystart, entrystop=entrystop, outputtype=pandas.DataFrame)\n",
    "    return df"
   ]
  },
  {
   "cell_type": "code",
   "execution_count": 12,
   "metadata": {},
   "outputs": [],
   "source": [
    "def PrintColumns(columns):\n",
    "    column_str = '[ '\n",
    "    for col in columns:\n",
    "        column_str += \"'{}', \".format(col)\n",
    "    column_str += ']'\n",
    "    print(column_str)"
   ]
  },
  {
   "cell_type": "code",
   "execution_count": 4,
   "metadata": {},
   "outputs": [],
   "source": [
    "file_name = 'file://N:/tau-ml/tuples-v2-t1/training/part_0.root'\n",
    "df_taus = ReadBranchesToDataFrame(file_name, 'taus', '*', 0, 10)"
   ]
  },
  {
   "cell_type": "code",
   "execution_count": 6,
   "metadata": {},
   "outputs": [
    {
     "name": "stdout",
     "output_type": "stream",
     "text": [
      "['run', 'lumi', 'evt', 'npv', 'rho', 'genEventWeight', 'trainingWeight', 'npu', 'pv_x', 'pv_y', 'pv_z', 'pv_chi2', 'pv_ndof', 'jet_index', 'jet_pt', 'jet_eta', 'jet_phi', 'jet_mass', 'jet_neutralHadronEnergyFraction', 'jet_neutralEmEnergyFraction', 'jet_nConstituents', 'jet_chargedMultiplicity', 'jet_neutralMultiplicity', 'jet_partonFlavour', 'jet_hadronFlavour', 'jet_has_gen_match', 'jet_gen_pt', 'jet_gen_eta', 'jet_gen_phi', 'jet_gen_mass', 'jet_gen_n_b', 'jet_gen_n_c', 'jetTauMatch', 'tau_index', 'tau_pt', 'tau_eta', 'tau_phi', 'tau_mass', 'tau_charge', 'gen_e', 'gen_mu', 'gen_tau', 'gen_jet', 'lepton_gen_match', 'lepton_gen_charge', 'lepton_gen_pt', 'lepton_gen_eta', 'lepton_gen_phi', 'lepton_gen_mass', 'lepton_gen_vis_pt', 'lepton_gen_vis_eta', 'lepton_gen_vis_phi', 'lepton_gen_vis_mass', 'qcd_gen_match', 'qcd_gen_charge', 'qcd_gen_pt', 'qcd_gen_eta', 'qcd_gen_phi', 'qcd_gen_mass', 'tau_decayMode', 'tau_decayModeFinding', 'tau_decayModeFindingNewDMs', 'chargedIsoPtSum', 'chargedIsoPtSumdR03', 'footprintCorrection', 'footprintCorrectiondR03', 'neutralIsoPtSum', 'neutralIsoPtSumWeight', 'neutralIsoPtSumWeightdR03', 'neutralIsoPtSumdR03', 'photonPtSumOutsideSignalCone', 'photonPtSumOutsideSignalConedR03', 'puCorrPtSum', 'againstElectronMVA6', 'againstElectronMVA6raw', 'againstElectronMVA62018', 'againstElectronMVA62018raw', 'againstMuon3', 'againstMuon3raw', 'byCombinedIsolationDeltaBetaCorr3Hits', 'byCombinedIsolationDeltaBetaCorr3Hitsraw', 'byIsolationMVArun2v1DBoldDMwLT2016', 'byIsolationMVArun2v1DBoldDMwLT2016raw', 'byIsolationMVArun2v1DBnewDMwLT2016', 'byIsolationMVArun2v1DBnewDMwLT2016raw', 'byIsolationMVArun2017v2DBoldDMwLT2017', 'byIsolationMVArun2017v2DBoldDMwLT2017raw', 'byIsolationMVArun2017v2DBoldDMdR0p3wLT2017', 'byIsolationMVArun2017v2DBoldDMdR0p3wLT2017raw', 'byIsolationMVArun2017v2DBnewDMwLT2017', 'byIsolationMVArun2017v2DBnewDMwLT2017raw', 'byDeepTau2017v1VSe', 'byDeepTau2017v1VSeraw', 'byDeepTau2017v1VSmu', 'byDeepTau2017v1VSmuraw', 'byDeepTau2017v1VSjet', 'byDeepTau2017v1VSjetraw', 'byDpfTau2016v0VSall', 'byDpfTau2016v0VSallraw', 'tau_dxy_pca_x', 'tau_dxy_pca_y', 'tau_dxy_pca_z', 'tau_dxy', 'tau_dxy_error', 'tau_ip3d', 'tau_ip3d_error', 'tau_dz', 'tau_dz_error', 'tau_hasSecondaryVertex', 'tau_sv_x', 'tau_sv_y', 'tau_sv_z', 'tau_flightLength_x', 'tau_flightLength_y', 'tau_flightLength_z', 'tau_flightLength_sig', 'tau_pt_weighted_deta_strip', 'tau_pt_weighted_dphi_strip', 'tau_pt_weighted_dr_signal', 'tau_pt_weighted_dr_iso', 'tau_leadingTrackNormChi2', 'tau_e_ratio', 'tau_gj_angle_diff', 'tau_n_photons', 'tau_emFraction', 'tau_inside_ecal_crack', 'leadChargedCand_etaAtEcalEntrance', ]\n"
     ]
    }
   ],
   "source": [
    "PrintColumns(df_taus)"
   ]
  },
  {
   "cell_type": "code",
   "execution_count": 7,
   "metadata": {},
   "outputs": [],
   "source": [
    "df_cells = ReadBranchesToDataFrame(file_name, 'cells', '*', 0, 10)"
   ]
  },
  {
   "cell_type": "code",
   "execution_count": 13,
   "metadata": {},
   "outputs": [
    {
     "name": "stdout",
     "output_type": "stream",
     "text": [
      "[ 'eta_index', 'phi_index', 'tau_pt', 'pfCand_n_total', 'pfCand_max_pt', 'pfCand_sum_pt', 'pfCand_sum_pt_scalar', 'pfCand_sum_E', 'pfCand_jetDaughter', 'pfCand_tauSignal', 'pfCand_leadChargedHadrCand', 'pfCand_tauIso', 'pfCand_pvAssociationQuality', 'pfCand_fromPV', 'pfCand_puppiWeight', 'pfCand_puppiWeightNoLep', 'pfCand_pdgId', 'pfCand_charge', 'pfCand_lostInnerHits', 'pfCand_numberOfPixelHits', 'pfCand_vertex_x', 'pfCand_vertex_y', 'pfCand_vertex_z', 'pfCand_hasTrackDetails', 'pfCand_dxy', 'pfCand_dxy_error', 'pfCand_dz', 'pfCand_dz_error', 'pfCand_track_chi2', 'pfCand_track_ndof', 'pfCand_hcalFraction', 'pfCand_rawCaloFraction', 'ele_n_total', 'ele_max_pt', 'ele_sum_pt', 'ele_sum_pt_scalar', 'ele_sum_E', 'ele_cc_ele_energy', 'ele_cc_gamma_energy', 'ele_cc_n_gamma', 'ele_trackMomentumAtVtx', 'ele_trackMomentumAtCalo', 'ele_trackMomentumOut', 'ele_trackMomentumAtEleClus', 'ele_trackMomentumAtVtxWithConstraint', 'ele_ecalEnergy', 'ele_ecalEnergy_error', 'ele_eSuperClusterOverP', 'ele_eSeedClusterOverP', 'ele_eSeedClusterOverPout', 'ele_eEleClusterOverPout', 'ele_deltaEtaSuperClusterTrackAtVtx', 'ele_deltaEtaSeedClusterTrackAtCalo', 'ele_deltaEtaEleClusterTrackAtCalo', 'ele_deltaPhiEleClusterTrackAtCalo', 'ele_deltaPhiSuperClusterTrackAtVtx', 'ele_deltaPhiSeedClusterTrackAtCalo', 'ele_mvaInput_earlyBrem', 'ele_mvaInput_lateBrem', 'ele_mvaInput_sigmaEtaEta', 'ele_mvaInput_hadEnergy', 'ele_mvaInput_deltaEta', 'ele_gsfTrack_normalizedChi2', 'ele_gsfTrack_numberOfValidHits', 'ele_gsfTrack_pt', 'ele_gsfTrack_pt_error', 'ele_closestCtfTrack_normalizedChi2', 'ele_closestCtfTrack_numberOfValidHits', 'muon_n_total', 'muon_max_pt', 'muon_sum_pt', 'muon_sum_pt_scalar', 'muon_sum_E', 'muon_dxy', 'muon_dxy_error', 'muon_normalizedChi2', 'muon_numberOfValidHits', 'muon_segmentCompatibility', 'muon_caloCompatibility', 'muon_pfEcalEnergy', 'muon_n_matches_DT_1', 'muon_n_matches_DT_2', 'muon_n_matches_DT_3', 'muon_n_matches_DT_4', 'muon_n_matches_CSC_1', 'muon_n_matches_CSC_2', 'muon_n_matches_CSC_3', 'muon_n_matches_CSC_4', 'muon_n_matches_RPC_1', 'muon_n_matches_RPC_2', 'muon_n_matches_RPC_3', 'muon_n_matches_RPC_4', 'muon_n_hits_DT_1', 'muon_n_hits_DT_2', 'muon_n_hits_DT_3', 'muon_n_hits_DT_4', 'muon_n_hits_CSC_1', 'muon_n_hits_CSC_2', 'muon_n_hits_CSC_3', 'muon_n_hits_CSC_4', 'muon_n_hits_RPC_1', 'muon_n_hits_RPC_2', 'muon_n_hits_RPC_3', 'muon_n_hits_RPC_4', ]\n"
     ]
    }
   ],
   "source": [
    "PrintColumns(df_cells)"
   ]
  },
  {
   "cell_type": "code",
   "execution_count": null,
   "metadata": {},
   "outputs": [],
   "source": []
  }
 ],
 "metadata": {
  "kernelspec": {
   "display_name": "Python 3",
   "language": "python",
   "name": "python3"
  },
  "language_info": {
   "codemirror_mode": {
    "name": "ipython",
    "version": 3
   },
   "file_extension": ".py",
   "mimetype": "text/x-python",
   "name": "python",
   "nbconvert_exporter": "python",
   "pygments_lexer": "ipython3",
   "version": "3.6.5"
  }
 },
 "nbformat": 4,
 "nbformat_minor": 2
}
