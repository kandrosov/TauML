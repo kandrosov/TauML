{
 "cells": [
  {
   "cell_type": "code",
   "execution_count": 1,
   "metadata": {},
   "outputs": [
    {
     "name": "stderr",
     "output_type": "stream",
     "text": [
      "C:\\Users\\konst\\AppData\\Roaming\\Python\\Python36\\site-packages\\h5py\\__init__.py:36: FutureWarning: Conversion of the second argument of issubdtype from `float` to `np.floating` is deprecated. In future, it will be treated as `np.float64 == np.dtype(float).type`.\n",
      "  from ._conv import register_converters as _register_converters\n",
      "Using TensorFlow backend.\n"
     ]
    }
   ],
   "source": [
    "import gc\n",
    "import os\n",
    "import sys\n",
    "import uproot\n",
    "import pandas\n",
    "import numpy as np\n",
    "import keras\n",
    "import tensorflow as tf\n",
    "from keras.models import Sequential, Model, load_model\n",
    "from keras.layers import Input, Dense, Dropout, AlphaDropout, Activation, BatchNormalization\n",
    "from keras.callbacks import ModelCheckpoint, CSVLogger\n",
    "from tqdm import tqdm_notebook\n",
    "from keras_tqdm import TQDMNotebookCallback\n",
    "import matplotlib.pyplot as plt\n",
    "import functools\n",
    "\n",
    "sys.path.insert(0, \"../python\")\n",
    "from common import *\n",
    "from WeightManager import WeightManager"
   ]
  },
  {
   "cell_type": "code",
   "execution_count": 2,
   "metadata": {},
   "outputs": [
    {
     "name": "stdout",
     "output_type": "stream",
     "text": [
      "181\n"
     ]
    },
    {
     "data": {
      "text/plain": [
       "['pt',\n",
       " 'eta',\n",
       " 'mass',\n",
       " 'decayMode',\n",
       " 'dxy',\n",
       " 'dxy_sig',\n",
       " 'dz',\n",
       " 'ip3d',\n",
       " 'ip3d_sig',\n",
       " 'hasSecondaryVertex',\n",
       " 'flightLength_r',\n",
       " 'flightLength_dEta',\n",
       " 'flightLength_dPhi',\n",
       " 'flightLength_sig',\n",
       " 'chargedIsoPtSum',\n",
       " 'chargedIsoPtSumdR03',\n",
       " 'footprintCorrection',\n",
       " 'footprintCorrectiondR03',\n",
       " 'neutralIsoPtSum',\n",
       " 'neutralIsoPtSumdR03',\n",
       " 'neutralIsoPtSumWeight',\n",
       " 'neutralIsoPtSumWeightdR03',\n",
       " 'photonPtSumOutsideSignalCone',\n",
       " 'photonPtSumOutsideSignalConedR03',\n",
       " 'puCorrPtSum',\n",
       " 'pt_weighted_deta_strip',\n",
       " 'pt_weighted_dphi_strip',\n",
       " 'pt_weighted_dr_signal',\n",
       " 'pt_weighted_dr_iso',\n",
       " 'leadingTrackNormChi2',\n",
       " 'e_ratio',\n",
       " 'gj_angle_diff',\n",
       " 'n_photons',\n",
       " 'emFraction',\n",
       " 'inside_ecal_crack',\n",
       " 'has_gsf_track',\n",
       " 'gsf_ele_matched',\n",
       " 'gsf_ele_pt',\n",
       " 'gsf_ele_dEta',\n",
       " 'gsf_ele_dPhi',\n",
       " 'gsf_ele_energy',\n",
       " 'gsf_ele_Ee',\n",
       " 'gsf_ele_Egamma',\n",
       " 'gsf_ele_Pin',\n",
       " 'gsf_ele_Pout',\n",
       " 'gsf_ele_Eecal',\n",
       " 'gsf_ele_dEta_SeedClusterTrackAtCalo',\n",
       " 'gsf_ele_dPhi_SeedClusterTrackAtCalo',\n",
       " 'gsf_ele_mvaIn_sigmaEtaEta',\n",
       " 'gsf_ele_mvaIn_hadEnergy',\n",
       " 'gsf_ele_mvaIn_deltaEta',\n",
       " 'gsf_ele_Chi2NormGSF',\n",
       " 'gsf_ele_GSFNumHits',\n",
       " 'gsf_ele_GSFTrackResol',\n",
       " 'gsf_ele_GSFTracklnPt',\n",
       " 'gsf_ele_Chi2NormKF',\n",
       " 'gsf_ele_KFNumHits',\n",
       " 'n_matched_muons',\n",
       " 'muon_pt',\n",
       " 'muon_dEta',\n",
       " 'muon_dPhi',\n",
       " 'muon_n_matches_DT_1',\n",
       " 'muon_n_matches_DT_2',\n",
       " 'muon_n_matches_DT_3',\n",
       " 'muon_n_matches_DT_4',\n",
       " 'muon_n_matches_CSC_1',\n",
       " 'muon_n_matches_CSC_2',\n",
       " 'muon_n_matches_CSC_3',\n",
       " 'muon_n_matches_CSC_4',\n",
       " 'muon_n_hits_DT_2',\n",
       " 'muon_n_hits_DT_3',\n",
       " 'muon_n_hits_DT_4',\n",
       " 'muon_n_hits_CSC_2',\n",
       " 'muon_n_hits_CSC_3',\n",
       " 'muon_n_hits_CSC_4',\n",
       " 'muon_n_hits_RPC_2',\n",
       " 'muon_n_hits_RPC_3',\n",
       " 'muon_n_hits_RPC_4',\n",
       " 'leadChargedCand_etaAtEcalEntrance',\n",
       " 'leadChargedHadrCand_pt',\n",
       " 'leadChargedHadrCand_dEta',\n",
       " 'leadChargedHadrCand_dPhi',\n",
       " 'leadChargedHadrCand_mass',\n",
       " 'innerSigCone_ChargedHadrCands_sum_pt',\n",
       " 'innerSigCone_ChargedHadrCands_sum_ht',\n",
       " 'innerSigCone_ChargedHadrCands_sum_dEta',\n",
       " 'innerSigCone_ChargedHadrCands_sum_dPhi',\n",
       " 'innerSigCone_ChargedHadrCands_sum_energy',\n",
       " 'innerSigCone_ChargedHadrCands_sum_mass',\n",
       " 'innerSigCone_ChargedHadrCands_nTotal',\n",
       " 'innerSigCone_NeutrHadrCands_sum_pt',\n",
       " 'innerSigCone_NeutrHadrCands_sum_ht',\n",
       " 'innerSigCone_NeutrHadrCands_sum_dEta',\n",
       " 'innerSigCone_NeutrHadrCands_sum_dPhi',\n",
       " 'innerSigCone_NeutrHadrCands_sum_energy',\n",
       " 'innerSigCone_NeutrHadrCands_sum_mass',\n",
       " 'innerSigCone_NeutrHadrCands_nTotal',\n",
       " 'innerSigCone_GammaCands_sum_pt',\n",
       " 'innerSigCone_GammaCands_sum_ht',\n",
       " 'innerSigCone_GammaCands_sum_dEta',\n",
       " 'innerSigCone_GammaCands_sum_dPhi',\n",
       " 'innerSigCone_GammaCands_sum_energy',\n",
       " 'innerSigCone_GammaCands_sum_mass',\n",
       " 'innerSigCone_GammaCands_nTotal',\n",
       " 'outerSigCone_NeutrHadrCands_sum_pt',\n",
       " 'outerSigCone_NeutrHadrCands_sum_ht',\n",
       " 'outerSigCone_NeutrHadrCands_sum_dEta',\n",
       " 'outerSigCone_NeutrHadrCands_sum_dPhi',\n",
       " 'outerSigCone_NeutrHadrCands_sum_energy',\n",
       " 'outerSigCone_NeutrHadrCands_sum_mass',\n",
       " 'outerSigCone_NeutrHadrCands_nTotal',\n",
       " 'outerSigCone_GammaCands_sum_pt',\n",
       " 'outerSigCone_GammaCands_sum_ht',\n",
       " 'outerSigCone_GammaCands_sum_dEta',\n",
       " 'outerSigCone_GammaCands_sum_dPhi',\n",
       " 'outerSigCone_GammaCands_sum_energy',\n",
       " 'outerSigCone_GammaCands_sum_mass',\n",
       " 'outerSigCone_GammaCands_nTotal',\n",
       " 'isoRing02_ChargedHadrCands_sum_pt',\n",
       " 'isoRing02_ChargedHadrCands_sum_ht',\n",
       " 'isoRing02_ChargedHadrCands_sum_dEta',\n",
       " 'isoRing02_ChargedHadrCands_sum_dPhi',\n",
       " 'isoRing02_ChargedHadrCands_sum_energy',\n",
       " 'isoRing02_ChargedHadrCands_sum_mass',\n",
       " 'isoRing02_ChargedHadrCands_nTotal',\n",
       " 'isoRing02_NeutrHadrCands_sum_pt',\n",
       " 'isoRing02_NeutrHadrCands_sum_ht',\n",
       " 'isoRing02_NeutrHadrCands_sum_dEta',\n",
       " 'isoRing02_NeutrHadrCands_sum_dPhi',\n",
       " 'isoRing02_NeutrHadrCands_sum_energy',\n",
       " 'isoRing02_NeutrHadrCands_sum_mass',\n",
       " 'isoRing02_NeutrHadrCands_nTotal',\n",
       " 'isoRing02_GammaCands_sum_pt',\n",
       " 'isoRing02_GammaCands_sum_ht',\n",
       " 'isoRing02_GammaCands_sum_dEta',\n",
       " 'isoRing02_GammaCands_sum_dPhi',\n",
       " 'isoRing02_GammaCands_sum_energy',\n",
       " 'isoRing02_GammaCands_sum_mass',\n",
       " 'isoRing02_GammaCands_nTotal',\n",
       " 'isoRing03_ChargedHadrCands_sum_pt',\n",
       " 'isoRing03_ChargedHadrCands_sum_ht',\n",
       " 'isoRing03_ChargedHadrCands_sum_dEta',\n",
       " 'isoRing03_ChargedHadrCands_sum_dPhi',\n",
       " 'isoRing03_ChargedHadrCands_sum_energy',\n",
       " 'isoRing03_ChargedHadrCands_sum_mass',\n",
       " 'isoRing03_ChargedHadrCands_nTotal',\n",
       " 'isoRing03_NeutrHadrCands_sum_pt',\n",
       " 'isoRing03_NeutrHadrCands_sum_ht',\n",
       " 'isoRing03_NeutrHadrCands_sum_dEta',\n",
       " 'isoRing03_NeutrHadrCands_sum_dPhi',\n",
       " 'isoRing03_NeutrHadrCands_sum_energy',\n",
       " 'isoRing03_NeutrHadrCands_sum_mass',\n",
       " 'isoRing03_NeutrHadrCands_nTotal',\n",
       " 'isoRing03_GammaCands_sum_pt',\n",
       " 'isoRing03_GammaCands_sum_ht',\n",
       " 'isoRing03_GammaCands_sum_dEta',\n",
       " 'isoRing03_GammaCands_sum_dPhi',\n",
       " 'isoRing03_GammaCands_sum_energy',\n",
       " 'isoRing03_GammaCands_sum_mass',\n",
       " 'isoRing03_GammaCands_nTotal',\n",
       " 'isoRing04_ChargedHadrCands_sum_pt',\n",
       " 'isoRing04_ChargedHadrCands_sum_ht',\n",
       " 'isoRing04_ChargedHadrCands_sum_dEta',\n",
       " 'isoRing04_ChargedHadrCands_sum_dPhi',\n",
       " 'isoRing04_ChargedHadrCands_sum_energy',\n",
       " 'isoRing04_ChargedHadrCands_sum_mass',\n",
       " 'isoRing04_ChargedHadrCands_nTotal',\n",
       " 'isoRing04_GammaCands_sum_pt',\n",
       " 'isoRing04_GammaCands_sum_ht',\n",
       " 'isoRing04_GammaCands_sum_dEta',\n",
       " 'isoRing04_GammaCands_sum_dPhi',\n",
       " 'isoRing04_GammaCands_sum_energy',\n",
       " 'isoRing04_GammaCands_sum_mass',\n",
       " 'isoRing04_GammaCands_nTotal',\n",
       " 'isoRing05_GammaCands_sum_pt',\n",
       " 'isoRing05_GammaCands_sum_ht',\n",
       " 'isoRing05_GammaCands_sum_dEta',\n",
       " 'isoRing05_GammaCands_sum_dPhi',\n",
       " 'isoRing05_GammaCands_sum_energy',\n",
       " 'isoRing05_GammaCands_sum_mass',\n",
       " 'isoRing05_GammaCands_nTotal']"
      ]
     },
     "execution_count": 2,
     "metadata": {},
     "output_type": "execute_result"
    }
   ],
   "source": [
    "print(len(input_branches))\n",
    "input_branches"
   ]
  },
  {
   "cell_type": "code",
   "execution_count": 3,
   "metadata": {},
   "outputs": [],
   "source": [
    "input_file = 'file://C:/Users/konst/workspace/tau-ml/tuples/training_v4/all_shuffled.root'\n",
    "weight_file = 'C:/Users/konst/workspace/tau-ml/tuples/training_v4/all_shuffled_weights.h5'"
   ]
  },
  {
   "cell_type": "code",
   "execution_count": 4,
   "metadata": {},
   "outputs": [
    {
     "data": {
      "application/vnd.jupyter.widget-view+json": {
       "model_id": "8ff8ac9b3f304fa6a6504df45db114ce",
       "version_major": 2,
       "version_minor": 0
      },
      "text/plain": [
       "HBox(children=(IntProgress(value=0, max=65452708), HTML(value='')))"
      ]
     },
     "metadata": {},
     "output_type": "display_data"
    },
    {
     "name": "stdout",
     "output_type": "stream",
     "text": [
      "\n"
     ]
    },
    {
     "data": {
      "application/vnd.jupyter.widget-view+json": {
       "model_id": "303fa4c475774d2b8960637e23b2ada5",
       "version_major": 2,
       "version_minor": 0
      },
      "text/plain": [
       "HBox(children=(IntProgress(value=0, max=65452708), HTML(value='')))"
      ]
     },
     "metadata": {},
     "output_type": "display_data"
    },
    {
     "name": "stdout",
     "output_type": "stream",
     "text": [
      "\n"
     ]
    },
    {
     "data": {
      "text/plain": [
       "((65452708, 181), (65452708, 4))"
      ]
     },
     "execution_count": 4,
     "metadata": {},
     "output_type": "execute_result"
    }
   ],
   "source": [
    "X, Y = ReadXY(input_file, 'taus')#, entrystop=int(7e5))\n",
    "X.shape, Y.shape"
   ]
  },
  {
   "cell_type": "code",
   "execution_count": 7,
   "metadata": {},
   "outputs": [],
   "source": [
    "#weightManager = WeightManager(weight_file, calc_weights=False)\n",
    "weightManager = WeightManager('20L1024N50D_relu_0723_s1_last_pass_weights.hdf5', calc_weights=False, first_block=False)"
   ]
  },
  {
   "cell_type": "code",
   "execution_count": 8,
   "metadata": {},
   "outputs": [],
   "source": [
    "TauLosses.Le_sf = 1\n",
    "TauLosses.Lmu_sf = 2\n",
    "TauLosses.Ljet_sf = 5"
   ]
  },
  {
   "cell_type": "code",
   "execution_count": 9,
   "metadata": {},
   "outputs": [],
   "source": [
    "def create_model(n_hidden_layers, n_neurons, dropout_rate, activation):\n",
    "    if activation == 'relu':\n",
    "        kernel_init = 'he_uniform'\n",
    "        DropoutType = Dropout\n",
    "        apply_batch_norm = True\n",
    "    elif activation == 'selu':\n",
    "        kernel_init = 'lecun_normal'\n",
    "        DropoutType = AlphaDropout\n",
    "        apply_batch_norm = False\n",
    "    else:\n",
    "        raise RuntimeError('Activation \"{}\" is not supported'.format(activation))\n",
    "    \n",
    "    model_name = \"{}L{}N{}D_{}\".format(n_hidden_layers, n_neurons, int(dropout_rate*100), activation)\n",
    "    input_layer = Input(name=\"main_input\", shape=input_shape)\n",
    "    \n",
    "    prev_layer = input_layer\n",
    "    for n in range(n_hidden_layers):\n",
    "        dense_layer = Dense(n_neurons, name=\"dense_%d\" % n, kernel_initializer=kernel_init)(prev_layer)\n",
    "        layer = dense_layer\n",
    "        if apply_batch_norm:\n",
    "            layer = BatchNormalization(name=\"batch_norm_%d\" % n)(dense_layer)\n",
    "        activation_layer = Activation(activation, name=\"activation_%d\" % n)(layer)\n",
    "        prev_layer = DropoutType(dropout_rate, name=\"dropout_%d\" % n)(activation_layer)\n",
    "    output_layer = Dense(n_outputs, name=\"dense_%d\" % n_hidden_layers)(prev_layer)\n",
    "    softmax_output = Activation(\"softmax\", name=\"main_output\")(output_layer)\n",
    "\n",
    "    weight_input = Input(name=\"weight_input\", shape=(3,))\n",
    "    model = Model([input_layer, weight_input], softmax_output, name=\"deepTauId\")\n",
    "    return model, model_name"
   ]
  },
  {
   "cell_type": "code",
   "execution_count": 10,
   "metadata": {},
   "outputs": [],
   "source": [
    "def compile_model(model, learning_rate):\n",
    "    opt = keras.optimizers.Adam(lr=learning_rate)\n",
    "    #opt = keras.optimizers.Nadam(lr=learning_rate)\n",
    "    #opt = keras.optimizers.SGD(lr=learning_rate, momentum=0.9, nesterov=True)\n",
    "    #model.compile(loss='categorical_crossentropy', optimizer='adam', metrics=[\"accuracy\"])\n",
    "    \n",
    "    weight_input = model.inputs[1]\n",
    "    tau_crossentropy = functools.partial(TauLosses.tau_crossentropy, weights=weight_input)\n",
    "    Le = functools.partial(TauLosses.Le, weights=weight_input)\n",
    "    Lmu = functools.partial(TauLosses.Lmu, weights=weight_input)\n",
    "    Ljet = functools.partial(TauLosses.Ljet, weights=weight_input)\n",
    "    sLe = functools.partial(TauLosses.sLe, weights=weight_input)\n",
    "    sLmu = functools.partial(TauLosses.sLmu, weights=weight_input)\n",
    "    sLjet = functools.partial(TauLosses.sLjet, weights=weight_input)\n",
    "    \n",
    "    functools.update_wrapper(tau_crossentropy, TauLosses.tau_crossentropy)\n",
    "    functools.update_wrapper(Le, TauLosses.Le)\n",
    "    functools.update_wrapper(Lmu, TauLosses.Lmu)\n",
    "    functools.update_wrapper(Ljet, TauLosses.Ljet)\n",
    "    functools.update_wrapper(sLe, TauLosses.sLe)\n",
    "    functools.update_wrapper(sLmu, TauLosses.sLmu)\n",
    "    functools.update_wrapper(sLjet, TauLosses.sLjet)\n",
    "    \n",
    "    model.compile(loss=tau_crossentropy, optimizer=opt, metrics=[\"accuracy\", Le, Lmu, Ljet, sLe, sLmu, sLjet])"
   ]
  },
  {
   "cell_type": "code",
   "execution_count": 11,
   "metadata": {},
   "outputs": [
    {
     "name": "stdout",
     "output_type": "stream",
     "text": [
      "_________________________________________________________________\n",
      "Layer (type)                 Output Shape              Param #   \n",
      "=================================================================\n",
      "main_input (InputLayer)      (None, 181)               0         \n",
      "_________________________________________________________________\n",
      "dense_0 (Dense)              (None, 1024)              186368    \n",
      "_________________________________________________________________\n",
      "batch_norm_0 (BatchNormaliza (None, 1024)              4096      \n",
      "_________________________________________________________________\n",
      "activation_0 (Activation)    (None, 1024)              0         \n",
      "_________________________________________________________________\n",
      "dropout_0 (Dropout)          (None, 1024)              0         \n",
      "_________________________________________________________________\n",
      "dense_1 (Dense)              (None, 1024)              1049600   \n",
      "_________________________________________________________________\n",
      "batch_norm_1 (BatchNormaliza (None, 1024)              4096      \n",
      "_________________________________________________________________\n",
      "activation_1 (Activation)    (None, 1024)              0         \n",
      "_________________________________________________________________\n",
      "dropout_1 (Dropout)          (None, 1024)              0         \n",
      "_________________________________________________________________\n",
      "dense_2 (Dense)              (None, 1024)              1049600   \n",
      "_________________________________________________________________\n",
      "batch_norm_2 (BatchNormaliza (None, 1024)              4096      \n",
      "_________________________________________________________________\n",
      "activation_2 (Activation)    (None, 1024)              0         \n",
      "_________________________________________________________________\n",
      "dropout_2 (Dropout)          (None, 1024)              0         \n",
      "_________________________________________________________________\n",
      "dense_3 (Dense)              (None, 1024)              1049600   \n",
      "_________________________________________________________________\n",
      "batch_norm_3 (BatchNormaliza (None, 1024)              4096      \n",
      "_________________________________________________________________\n",
      "activation_3 (Activation)    (None, 1024)              0         \n",
      "_________________________________________________________________\n",
      "dropout_3 (Dropout)          (None, 1024)              0         \n",
      "_________________________________________________________________\n",
      "dense_4 (Dense)              (None, 1024)              1049600   \n",
      "_________________________________________________________________\n",
      "batch_norm_4 (BatchNormaliza (None, 1024)              4096      \n",
      "_________________________________________________________________\n",
      "activation_4 (Activation)    (None, 1024)              0         \n",
      "_________________________________________________________________\n",
      "dropout_4 (Dropout)          (None, 1024)              0         \n",
      "_________________________________________________________________\n",
      "dense_5 (Dense)              (None, 1024)              1049600   \n",
      "_________________________________________________________________\n",
      "batch_norm_5 (BatchNormaliza (None, 1024)              4096      \n",
      "_________________________________________________________________\n",
      "activation_5 (Activation)    (None, 1024)              0         \n",
      "_________________________________________________________________\n",
      "dropout_5 (Dropout)          (None, 1024)              0         \n",
      "_________________________________________________________________\n",
      "dense_6 (Dense)              (None, 1024)              1049600   \n",
      "_________________________________________________________________\n",
      "batch_norm_6 (BatchNormaliza (None, 1024)              4096      \n",
      "_________________________________________________________________\n",
      "activation_6 (Activation)    (None, 1024)              0         \n",
      "_________________________________________________________________\n",
      "dropout_6 (Dropout)          (None, 1024)              0         \n",
      "_________________________________________________________________\n",
      "dense_7 (Dense)              (None, 1024)              1049600   \n",
      "_________________________________________________________________\n",
      "batch_norm_7 (BatchNormaliza (None, 1024)              4096      \n",
      "_________________________________________________________________\n",
      "activation_7 (Activation)    (None, 1024)              0         \n",
      "_________________________________________________________________\n",
      "dropout_7 (Dropout)          (None, 1024)              0         \n",
      "_________________________________________________________________\n",
      "dense_8 (Dense)              (None, 1024)              1049600   \n",
      "_________________________________________________________________\n",
      "batch_norm_8 (BatchNormaliza (None, 1024)              4096      \n",
      "_________________________________________________________________\n",
      "activation_8 (Activation)    (None, 1024)              0         \n",
      "_________________________________________________________________\n",
      "dropout_8 (Dropout)          (None, 1024)              0         \n",
      "_________________________________________________________________\n",
      "dense_9 (Dense)              (None, 1024)              1049600   \n",
      "_________________________________________________________________\n",
      "batch_norm_9 (BatchNormaliza (None, 1024)              4096      \n",
      "_________________________________________________________________\n",
      "activation_9 (Activation)    (None, 1024)              0         \n",
      "_________________________________________________________________\n",
      "dropout_9 (Dropout)          (None, 1024)              0         \n",
      "_________________________________________________________________\n",
      "dense_10 (Dense)             (None, 1024)              1049600   \n",
      "_________________________________________________________________\n",
      "batch_norm_10 (BatchNormaliz (None, 1024)              4096      \n",
      "_________________________________________________________________\n",
      "activation_10 (Activation)   (None, 1024)              0         \n",
      "_________________________________________________________________\n",
      "dropout_10 (Dropout)         (None, 1024)              0         \n",
      "_________________________________________________________________\n",
      "dense_11 (Dense)             (None, 1024)              1049600   \n",
      "_________________________________________________________________\n",
      "batch_norm_11 (BatchNormaliz (None, 1024)              4096      \n",
      "_________________________________________________________________\n",
      "activation_11 (Activation)   (None, 1024)              0         \n",
      "_________________________________________________________________\n",
      "dropout_11 (Dropout)         (None, 1024)              0         \n",
      "_________________________________________________________________\n",
      "dense_12 (Dense)             (None, 1024)              1049600   \n",
      "_________________________________________________________________\n",
      "batch_norm_12 (BatchNormaliz (None, 1024)              4096      \n",
      "_________________________________________________________________\n",
      "activation_12 (Activation)   (None, 1024)              0         \n",
      "_________________________________________________________________\n",
      "dropout_12 (Dropout)         (None, 1024)              0         \n",
      "_________________________________________________________________\n",
      "dense_13 (Dense)             (None, 1024)              1049600   \n",
      "_________________________________________________________________\n",
      "batch_norm_13 (BatchNormaliz (None, 1024)              4096      \n",
      "_________________________________________________________________\n",
      "activation_13 (Activation)   (None, 1024)              0         \n",
      "_________________________________________________________________\n",
      "dropout_13 (Dropout)         (None, 1024)              0         \n",
      "_________________________________________________________________\n",
      "dense_14 (Dense)             (None, 1024)              1049600   \n",
      "_________________________________________________________________\n",
      "batch_norm_14 (BatchNormaliz (None, 1024)              4096      \n",
      "_________________________________________________________________\n",
      "activation_14 (Activation)   (None, 1024)              0         \n",
      "_________________________________________________________________\n",
      "dropout_14 (Dropout)         (None, 1024)              0         \n"
     ]
    },
    {
     "name": "stdout",
     "output_type": "stream",
     "text": [
      "_________________________________________________________________\n",
      "dense_15 (Dense)             (None, 1024)              1049600   \n",
      "_________________________________________________________________\n",
      "batch_norm_15 (BatchNormaliz (None, 1024)              4096      \n",
      "_________________________________________________________________\n",
      "activation_15 (Activation)   (None, 1024)              0         \n",
      "_________________________________________________________________\n",
      "dropout_15 (Dropout)         (None, 1024)              0         \n",
      "_________________________________________________________________\n",
      "dense_16 (Dense)             (None, 1024)              1049600   \n",
      "_________________________________________________________________\n",
      "batch_norm_16 (BatchNormaliz (None, 1024)              4096      \n",
      "_________________________________________________________________\n",
      "activation_16 (Activation)   (None, 1024)              0         \n",
      "_________________________________________________________________\n",
      "dropout_16 (Dropout)         (None, 1024)              0         \n",
      "_________________________________________________________________\n",
      "dense_17 (Dense)             (None, 1024)              1049600   \n",
      "_________________________________________________________________\n",
      "batch_norm_17 (BatchNormaliz (None, 1024)              4096      \n",
      "_________________________________________________________________\n",
      "activation_17 (Activation)   (None, 1024)              0         \n",
      "_________________________________________________________________\n",
      "dropout_17 (Dropout)         (None, 1024)              0         \n",
      "_________________________________________________________________\n",
      "dense_18 (Dense)             (None, 1024)              1049600   \n",
      "_________________________________________________________________\n",
      "batch_norm_18 (BatchNormaliz (None, 1024)              4096      \n",
      "_________________________________________________________________\n",
      "activation_18 (Activation)   (None, 1024)              0         \n",
      "_________________________________________________________________\n",
      "dropout_18 (Dropout)         (None, 1024)              0         \n",
      "_________________________________________________________________\n",
      "dense_19 (Dense)             (None, 1024)              1049600   \n",
      "_________________________________________________________________\n",
      "batch_norm_19 (BatchNormaliz (None, 1024)              4096      \n",
      "_________________________________________________________________\n",
      "activation_19 (Activation)   (None, 1024)              0         \n",
      "_________________________________________________________________\n",
      "dropout_19 (Dropout)         (None, 1024)              0         \n",
      "_________________________________________________________________\n",
      "dense_20 (Dense)             (None, 4)                 4100      \n",
      "_________________________________________________________________\n",
      "main_output (Activation)     (None, 4)                 0         \n",
      "=================================================================\n",
      "Total params: 20,214,788\n",
      "Trainable params: 20,173,828\n",
      "Non-trainable params: 40,960\n",
      "_________________________________________________________________\n"
     ]
    }
   ],
   "source": [
    "model, model_name = create_model(20, 1024, 0.5, 'relu')\n",
    "#model, model_name = create_model(20, 1024, 0.5, 'selu')\n",
    "\n",
    "model.load_weights(\"20L1024N50D_relu_0723_s1_final.hdf5\", by_name=True)\n",
    "\n",
    "compile_model(model, 1e-3)\n",
    "model.summary()"
   ]
  },
  {
   "cell_type": "code",
   "execution_count": 12,
   "metadata": {},
   "outputs": [],
   "source": [
    "def close_file(f_name):\n",
    "    file_objs = [ obj for obj in gc.get_objects() if (\"TextIOWrapper\" in str(type(obj))) and (obj.name == f_name)]\n",
    "    for obj in file_objs:\n",
    "        obj.close()"
   ]
  },
  {
   "cell_type": "code",
   "execution_count": 13,
   "metadata": {},
   "outputs": [],
   "source": [
    "def run_training(train_suffix, model_name, epoch, n_pass):\n",
    "    n_train = int(6e7)\n",
    "    n_test = X.shape[0] - n_train\n",
    "    n_per_step = int(1e7)\n",
    "\n",
    "    train_name = '%s_%s' % (model_name, train_suffix)\n",
    "    \n",
    "    weightManager.SetHistFileName('%s_weight_upd.hdf5' % train_name)\n",
    "    \n",
    "    cb_acc = ModelCheckpoint(\"%s_acc.hdf5\" % train_name, monitor=\"val_acc\", save_best_only=True,\n",
    "                             save_weights_only=False, mode=\"max\", verbose=1)\n",
    "    \n",
    "    cb_losses = []\n",
    "    for loss_name in [\"loss\", \"Le\", \"Lmu\", \"Ljet\"]:\n",
    "        cb_losses.append(ModelCheckpoint(\"%s_%s.hdf5\" % (train_name, loss_name), monitor=\"val_%s\" % loss_name,\n",
    "                                         save_best_only=True, save_weights_only=False, mode=\"min\", verbose=1))\n",
    "\n",
    "    \n",
    "    log_name = \"%s.log\" % train_name\n",
    "    if os.path.isfile(log_name):\n",
    "        close_file(log_name)\n",
    "        os.remove(log_name)\n",
    "    csv_log = CSVLogger(log_name, append=True)\n",
    "\n",
    "    for pass_id in range(0, n_pass):\n",
    "        print(\"Starting pass %s\" % pass_id)\n",
    "        for pos in range(0, n_train, n_per_step):\n",
    "            if epoch != 0:\n",
    "                print(\"Updating weights...\")\n",
    "                weightManager.UpdateWeights(model, epoch, X, pos, n_per_step,\n",
    "                                            [('jet', 0.6), ('e', 0.6), ('mu', 0.9)])\n",
    "            \n",
    "            val_data = ([X[n_train:n_train+n_test, :], weightManager.GetWeights(n_train, n_train+n_test)],\n",
    "                        Y[n_train:n_train+n_test, :])\n",
    "            pbar = TQDMNotebookCallback(leave_outer=False, show_outer=False, leave_inner = True)\n",
    "            callbacks = [pbar, csv_log, cb_acc, *cb_losses]\n",
    "            fit_hist = model.fit([X[pos:pos+n_per_step, :], weightManager.GetWeights(pos, pos+n_per_step)],\n",
    "                                 Y[pos:pos+n_per_step, :], callbacks=callbacks, validation_data=val_data, batch_size=10000,\n",
    "                                 epochs=epoch+1, initial_epoch=epoch, verbose=0)\n",
    "            epoch += 1\n",
    "        if pass_id + 1 != n_pass:\n",
    "            weightManager.SaveWeights('%s_last_pass_weights.hdf5' % train_name)\n",
    "            model.save(\"%s_last_pass.hdf5\" % train_name)\n",
    "\n",
    "    weightManager.SaveWeights('%s_final_weights.hdf5' % train_name)\n",
    "    model.save(\"%s_final.hdf5\" % train_name)"
   ]
  },
  {
   "cell_type": "code",
   "execution_count": 14,
   "metadata": {},
   "outputs": [
    {
     "name": "stdout",
     "output_type": "stream",
     "text": [
      "Starting pass 0\n",
      "Updating weights...\n",
      "\tpredictions has been calculated.\n",
      "tau_vs_jet: bins changed = 217, average sf = 0.9986306864360228\n",
      "tau_vs_e: bins changed = 238, average sf = 1.0021491739952713\n",
      "tau_vs_mu: bins changed = 89, average sf = 0.9903144651041345\n"
     ]
    },
    {
     "data": {
      "application/vnd.jupyter.widget-view+json": {
       "model_id": "9da45a21885144339a42ae23a01ee8bc",
       "version_major": 2,
       "version_minor": 0
      },
      "text/plain": [
       "HBox(children=(IntProgress(value=0, description='Epoch 300', max=10000000), HTML(value='')))"
      ]
     },
     "metadata": {},
     "output_type": "display_data"
    },
    {
     "name": "stdout",
     "output_type": "stream",
     "text": [
      "\n",
      "\n",
      "Epoch 00301: val_acc improved from -inf to 0.77558, saving model to 20L1024N50D_relu_0723_s1p2_acc.hdf5\n",
      "\n",
      "Epoch 00301: val_loss improved from inf to 2.05340, saving model to 20L1024N50D_relu_0723_s1p2_loss.hdf5\n",
      "\n",
      "Epoch 00301: val_Le improved from inf to 0.61399, saving model to 20L1024N50D_relu_0723_s1p2_Le.hdf5\n",
      "\n",
      "Epoch 00301: val_Lmu improved from inf to 0.27789, saving model to 20L1024N50D_relu_0723_s1p2_Lmu.hdf5\n",
      "\n",
      "Epoch 00301: val_Ljet improved from inf to 0.17673, saving model to 20L1024N50D_relu_0723_s1p2_Ljet.hdf5\n",
      "Updating weights...\n",
      "\tpredictions has been calculated.\n",
      "tau_vs_jet: bins changed = 252, average sf = 1.0057235305876044\n",
      "tau_vs_e: bins changed = 202, average sf = 1.0004021175785789\n",
      "tau_vs_mu: bins changed = 217, average sf = 0.9911142179136636\n"
     ]
    },
    {
     "data": {
      "application/vnd.jupyter.widget-view+json": {
       "model_id": "f6cd4ef29fa34ce98d08fc76a57fd57c",
       "version_major": 2,
       "version_minor": 0
      },
      "text/plain": [
       "HBox(children=(IntProgress(value=0, description='Epoch 301', max=10000000), HTML(value='')))"
      ]
     },
     "metadata": {},
     "output_type": "display_data"
    },
    {
     "name": "stdout",
     "output_type": "stream",
     "text": [
      "\n",
      "\n",
      "Epoch 00302: val_acc improved from 0.77558 to 0.93695, saving model to 20L1024N50D_relu_0723_s1p2_acc.hdf5\n",
      "\n",
      "Epoch 00302: val_loss improved from 2.05340 to 0.96203, saving model to 20L1024N50D_relu_0723_s1p2_loss.hdf5\n",
      "\n",
      "Epoch 00302: val_Le improved from 0.61399 to 0.18444, saving model to 20L1024N50D_relu_0723_s1p2_Le.hdf5\n",
      "\n",
      "Epoch 00302: val_Lmu improved from 0.27789 to 0.04108, saving model to 20L1024N50D_relu_0723_s1p2_Lmu.hdf5\n",
      "\n",
      "Epoch 00302: val_Ljet improved from 0.17673 to 0.13908, saving model to 20L1024N50D_relu_0723_s1p2_Ljet.hdf5\n",
      "Updating weights...\n",
      "\tpredictions has been calculated.\n",
      "tau_vs_jet: bins changed = 240, average sf = 1.002022711997095\n",
      "tau_vs_e: bins changed = 225, average sf = 1.0012018024335887\n",
      "tau_vs_mu: bins changed = 29, average sf = 1.0792889957331118\n"
     ]
    },
    {
     "data": {
      "application/vnd.jupyter.widget-view+json": {
       "model_id": "7b0421cdfcf542a994fafce4de8182f8",
       "version_major": 2,
       "version_minor": 0
      },
      "text/plain": [
       "HBox(children=(IntProgress(value=0, description='Epoch 302', max=10000000), HTML(value='')))"
      ]
     },
     "metadata": {},
     "output_type": "display_data"
    },
    {
     "name": "stdout",
     "output_type": "stream",
     "text": [
      "\n",
      "\n",
      "Epoch 00303: val_acc did not improve from 0.93695\n",
      "\n",
      "Epoch 00303: val_loss did not improve from 0.96203\n",
      "\n",
      "Epoch 00303: val_Le did not improve from 0.18444\n",
      "\n",
      "Epoch 00303: val_Lmu did not improve from 0.04108\n",
      "\n",
      "Epoch 00303: val_Ljet did not improve from 0.13908\n",
      "Updating weights...\n",
      "\tpredictions has been calculated.\n",
      "tau_vs_jet: bins changed = 172, average sf = 1.0036167498096216\n",
      "tau_vs_e: bins changed = 280, average sf = 1.0047197143377447\n",
      "tau_vs_mu: bins changed = 64, average sf = 0.9760175384698011\n"
     ]
    },
    {
     "data": {
      "application/vnd.jupyter.widget-view+json": {
       "model_id": "732aae6df6114f3783076e15254a9ffa",
       "version_major": 2,
       "version_minor": 0
      },
      "text/plain": [
       "HBox(children=(IntProgress(value=0, description='Epoch 303', max=10000000), HTML(value='')))"
      ]
     },
     "metadata": {},
     "output_type": "display_data"
    },
    {
     "name": "stdout",
     "output_type": "stream",
     "text": [
      "\n",
      "\n",
      "Epoch 00304: val_acc improved from 0.93695 to 0.93936, saving model to 20L1024N50D_relu_0723_s1p2_acc.hdf5\n",
      "\n",
      "Epoch 00304: val_loss did not improve from 0.96203\n",
      "\n",
      "Epoch 00304: val_Le did not improve from 0.18444\n",
      "\n",
      "Epoch 00304: val_Lmu improved from 0.04108 to 0.04032, saving model to 20L1024N50D_relu_0723_s1p2_Lmu.hdf5\n",
      "\n",
      "Epoch 00304: val_Ljet did not improve from 0.13908\n",
      "Updating weights...\n",
      "\tpredictions has been calculated.\n",
      "tau_vs_jet: bins changed = 232, average sf = 0.9997457539830789\n",
      "tau_vs_e: bins changed = 228, average sf = 1.0014948550103646\n",
      "tau_vs_mu: bins changed = 56, average sf = 1.0276444601954473\n"
     ]
    },
    {
     "data": {
      "application/vnd.jupyter.widget-view+json": {
       "model_id": "e4fe2b3c3bda4414aac0f40f0d0c4458",
       "version_major": 2,
       "version_minor": 0
      },
      "text/plain": [
       "HBox(children=(IntProgress(value=0, description='Epoch 304', max=10000000), HTML(value='')))"
      ]
     },
     "metadata": {},
     "output_type": "display_data"
    },
    {
     "name": "stdout",
     "output_type": "stream",
     "text": [
      "\n",
      "\n",
      "Epoch 00305: val_acc did not improve from 0.93936\n",
      "\n",
      "Epoch 00305: val_loss did not improve from 0.96203\n",
      "\n",
      "Epoch 00305: val_Le did not improve from 0.18444\n",
      "\n",
      "Epoch 00305: val_Lmu improved from 0.04032 to 0.03967, saving model to 20L1024N50D_relu_0723_s1p2_Lmu.hdf5\n",
      "\n",
      "Epoch 00305: val_Ljet did not improve from 0.13908\n",
      "Updating weights...\n",
      "\tpredictions has been calculated.\n",
      "tau_vs_jet: bins changed = 201, average sf = 1.0006187296638185\n",
      "tau_vs_e: bins changed = 213, average sf = 1.0002926483823285\n",
      "tau_vs_mu: bins changed = 28, average sf = 1.003001975637611\n"
     ]
    },
    {
     "data": {
      "application/vnd.jupyter.widget-view+json": {
       "model_id": "496807709a404dc78c52159d54e1737c",
       "version_major": 2,
       "version_minor": 0
      },
      "text/plain": [
       "HBox(children=(IntProgress(value=0, description='Epoch 305', max=10000000), HTML(value='')))"
      ]
     },
     "metadata": {},
     "output_type": "display_data"
    },
    {
     "name": "stdout",
     "output_type": "stream",
     "text": [
      "\n",
      "\n",
      "Epoch 00306: val_acc improved from 0.93936 to 0.94016, saving model to 20L1024N50D_relu_0723_s1p2_acc.hdf5\n",
      "\n",
      "Epoch 00306: val_loss did not improve from 0.96203\n",
      "\n",
      "Epoch 00306: val_Le did not improve from 0.18444\n",
      "\n",
      "Epoch 00306: val_Lmu improved from 0.03967 to 0.03574, saving model to 20L1024N50D_relu_0723_s1p2_Lmu.hdf5\n",
      "\n",
      "Epoch 00306: val_Ljet did not improve from 0.13908\n",
      "Starting pass 1\n",
      "Updating weights...\n",
      "\tpredictions has been calculated.\n",
      "tau_vs_jet: bins changed = 266, average sf = 1.0022765776961804\n",
      "tau_vs_e: bins changed = 210, average sf = 1.0009901143569917\n",
      "tau_vs_mu: bins changed = 16, average sf = 1.020678208290077\n"
     ]
    },
    {
     "data": {
      "application/vnd.jupyter.widget-view+json": {
       "model_id": "f677da189a07473e82d1bf5b34bf083c",
       "version_major": 2,
       "version_minor": 0
      },
      "text/plain": [
       "HBox(children=(IntProgress(value=0, description='Epoch 306', max=10000000), HTML(value='')))"
      ]
     },
     "metadata": {},
     "output_type": "display_data"
    },
    {
     "name": "stdout",
     "output_type": "stream",
     "text": [
      "\n",
      "\n",
      "Epoch 00307: val_acc did not improve from 0.94016\n",
      "\n",
      "Epoch 00307: val_loss did not improve from 0.96203\n",
      "\n",
      "Epoch 00307: val_Le did not improve from 0.18444\n",
      "\n",
      "Epoch 00307: val_Lmu did not improve from 0.03574\n",
      "\n",
      "Epoch 00307: val_Ljet did not improve from 0.13908\n",
      "Updating weights...\n",
      "\tpredictions has been calculated.\n",
      "tau_vs_jet: bins changed = 226, average sf = 0.9991669404458258\n",
      "tau_vs_e: bins changed = 249, average sf = 0.9994813519832411\n",
      "tau_vs_mu: bins changed = 98, average sf = 0.9662405008199093\n"
     ]
    },
    {
     "data": {
      "application/vnd.jupyter.widget-view+json": {
       "model_id": "8fe279aa435446f48fc3f3dc67acc6d7",
       "version_major": 2,
       "version_minor": 0
      },
      "text/plain": [
       "HBox(children=(IntProgress(value=0, description='Epoch 307', max=10000000), HTML(value='')))"
      ]
     },
     "metadata": {},
     "output_type": "display_data"
    },
    {
     "name": "stdout",
     "output_type": "stream",
     "text": [
      "\n",
      "\n",
      "Epoch 00308: val_acc improved from 0.94016 to 0.94407, saving model to 20L1024N50D_relu_0723_s1p2_acc.hdf5\n",
      "\n",
      "Epoch 00308: val_loss improved from 0.96203 to 0.94943, saving model to 20L1024N50D_relu_0723_s1p2_loss.hdf5\n",
      "\n",
      "Epoch 00308: val_Le did not improve from 0.18444\n",
      "\n",
      "Epoch 00308: val_Lmu improved from 0.03574 to 0.03322, saving model to 20L1024N50D_relu_0723_s1p2_Lmu.hdf5\n",
      "\n",
      "Epoch 00308: val_Ljet improved from 0.13908 to 0.13837, saving model to 20L1024N50D_relu_0723_s1p2_Ljet.hdf5\n",
      "Updating weights...\n",
      "\tpredictions has been calculated.\n",
      "tau_vs_jet: bins changed = 205, average sf = 1.0020356379456945\n",
      "tau_vs_e: bins changed = 168, average sf = 1.0006377511155677\n",
      "tau_vs_mu: bins changed = 106, average sf = 0.9985218860372168\n"
     ]
    },
    {
     "data": {
      "application/vnd.jupyter.widget-view+json": {
       "model_id": "38e7486f42a7491f8763069fdaeb28b8",
       "version_major": 2,
       "version_minor": 0
      },
      "text/plain": [
       "HBox(children=(IntProgress(value=0, description='Epoch 308', max=10000000), HTML(value='')))"
      ]
     },
     "metadata": {},
     "output_type": "display_data"
    },
    {
     "name": "stdout",
     "output_type": "stream",
     "text": [
      "\n",
      "\n",
      "Epoch 00309: val_acc did not improve from 0.94407\n",
      "\n",
      "Epoch 00309: val_loss did not improve from 0.94943\n",
      "\n",
      "Epoch 00309: val_Le did not improve from 0.18444\n",
      "\n",
      "Epoch 00309: val_Lmu did not improve from 0.03322\n",
      "\n",
      "Epoch 00309: val_Ljet did not improve from 0.13837\n",
      "Updating weights...\n",
      "\tpredictions has been calculated.\n",
      "tau_vs_jet: bins changed = 198, average sf = 0.9998177854468251\n",
      "tau_vs_e: bins changed = 214, average sf = 1.0004589204242311\n",
      "tau_vs_mu: bins changed = 166, average sf = 0.9868898653132535\n"
     ]
    },
    {
     "data": {
      "application/vnd.jupyter.widget-view+json": {
       "model_id": "a8a0c86d2c16497fb408714343666519",
       "version_major": 2,
       "version_minor": 0
      },
      "text/plain": [
       "HBox(children=(IntProgress(value=0, description='Epoch 309', max=10000000), HTML(value='')))"
      ]
     },
     "metadata": {},
     "output_type": "display_data"
    },
    {
     "name": "stdout",
     "output_type": "stream",
     "text": [
      "\n",
      "\n",
      "Epoch 00310: val_acc did not improve from 0.94407\n",
      "\n",
      "Epoch 00310: val_loss did not improve from 0.94943\n",
      "\n",
      "Epoch 00310: val_Le did not improve from 0.18444\n",
      "\n",
      "Epoch 00310: val_Lmu did not improve from 0.03322\n",
      "\n",
      "Epoch 00310: val_Ljet did not improve from 0.13837\n",
      "Updating weights...\n",
      "\tpredictions has been calculated.\n",
      "tau_vs_jet: bins changed = 195, average sf = 1.0003355462227068\n",
      "tau_vs_e: bins changed = 121, average sf = 0.9990489347999346\n",
      "tau_vs_mu: bins changed = 40, average sf = 1.0399384885986973\n"
     ]
    },
    {
     "data": {
      "application/vnd.jupyter.widget-view+json": {
       "model_id": "24f11df901a943d090ec1cc571d89360",
       "version_major": 2,
       "version_minor": 0
      },
      "text/plain": [
       "HBox(children=(IntProgress(value=0, description='Epoch 310', max=10000000), HTML(value='')))"
      ]
     },
     "metadata": {},
     "output_type": "display_data"
    },
    {
     "name": "stdout",
     "output_type": "stream",
     "text": [
      "\n",
      "\n",
      "Epoch 00311: val_acc did not improve from 0.94407\n",
      "\n",
      "Epoch 00311: val_loss did not improve from 0.94943\n",
      "\n",
      "Epoch 00311: val_Le did not improve from 0.18444\n",
      "\n",
      "Epoch 00311: val_Lmu did not improve from 0.03322\n",
      "\n",
      "Epoch 00311: val_Ljet did not improve from 0.13837\n",
      "Updating weights...\n",
      "\tpredictions has been calculated.\n",
      "tau_vs_jet: bins changed = 237, average sf = 1.002295831767016\n",
      "tau_vs_e: bins changed = 245, average sf = 1.0016229496802551\n",
      "tau_vs_mu: bins changed = 131, average sf = 0.9843643288649216\n"
     ]
    },
    {
     "data": {
      "application/vnd.jupyter.widget-view+json": {
       "model_id": "cdfddcf1e2184987bd1eba89d92fa9ac",
       "version_major": 2,
       "version_minor": 0
      },
      "text/plain": [
       "HBox(children=(IntProgress(value=0, description='Epoch 311', max=10000000), HTML(value='')))"
      ]
     },
     "metadata": {},
     "output_type": "display_data"
    },
    {
     "name": "stdout",
     "output_type": "stream",
     "text": [
      "\n",
      "\n",
      "Epoch 00312: val_acc did not improve from 0.94407\n",
      "\n",
      "Epoch 00312: val_loss did not improve from 0.94943\n",
      "\n",
      "Epoch 00312: val_Le did not improve from 0.18444\n",
      "\n",
      "Epoch 00312: val_Lmu did not improve from 0.03322\n",
      "\n",
      "Epoch 00312: val_Ljet did not improve from 0.13837\n",
      "Starting pass 2\n",
      "Updating weights...\n",
      "\tpredictions has been calculated.\n",
      "tau_vs_jet: bins changed = 146, average sf = 1.0014546424629693\n",
      "tau_vs_e: bins changed = 192, average sf = 0.9988267868080893\n",
      "tau_vs_mu: bins changed = 104, average sf = 0.9746740149091538\n"
     ]
    },
    {
     "data": {
      "application/vnd.jupyter.widget-view+json": {
       "model_id": "5a47405d2004486c9c16c2dc9f19af72",
       "version_major": 2,
       "version_minor": 0
      },
      "text/plain": [
       "HBox(children=(IntProgress(value=0, description='Epoch 312', max=10000000), HTML(value='')))"
      ]
     },
     "metadata": {},
     "output_type": "display_data"
    },
    {
     "name": "stdout",
     "output_type": "stream",
     "text": [
      "\n",
      "\n",
      "Epoch 00313: val_acc did not improve from 0.94407\n",
      "\n",
      "Epoch 00313: val_loss did not improve from 0.94943\n",
      "\n",
      "Epoch 00313: val_Le did not improve from 0.18444\n",
      "\n",
      "Epoch 00313: val_Lmu did not improve from 0.03322\n",
      "\n",
      "Epoch 00313: val_Ljet did not improve from 0.13837\n",
      "Updating weights...\n",
      "\tpredictions has been calculated.\n",
      "tau_vs_jet: bins changed = 208, average sf = 1.0000499874197546\n",
      "tau_vs_e: bins changed = 178, average sf = 1.0006552026650204\n",
      "tau_vs_mu: bins changed = 86, average sf = 0.9952930067441744\n"
     ]
    },
    {
     "data": {
      "application/vnd.jupyter.widget-view+json": {
       "model_id": "f765f6e7862e445fa08b1e582ddf0554",
       "version_major": 2,
       "version_minor": 0
      },
      "text/plain": [
       "HBox(children=(IntProgress(value=0, description='Epoch 313', max=10000000), HTML(value='')))"
      ]
     },
     "metadata": {},
     "output_type": "display_data"
    },
    {
     "name": "stdout",
     "output_type": "stream",
     "text": [
      "\n",
      "\n",
      "Epoch 00314: val_acc did not improve from 0.94407\n",
      "\n",
      "Epoch 00314: val_loss did not improve from 0.94943\n",
      "\n",
      "Epoch 00314: val_Le did not improve from 0.18444\n",
      "\n",
      "Epoch 00314: val_Lmu did not improve from 0.03322\n",
      "\n",
      "Epoch 00314: val_Ljet did not improve from 0.13837\n",
      "Updating weights...\n",
      "\tpredictions has been calculated.\n",
      "tau_vs_jet: bins changed = 149, average sf = 1.001007177196532\n",
      "tau_vs_e: bins changed = 199, average sf = 1.0014710147561772\n",
      "tau_vs_mu: bins changed = 107, average sf = 0.9766939270966399\n"
     ]
    },
    {
     "data": {
      "application/vnd.jupyter.widget-view+json": {
       "model_id": "c1ca06b7eace4972ae963db28f6b23ca",
       "version_major": 2,
       "version_minor": 0
      },
      "text/plain": [
       "HBox(children=(IntProgress(value=0, description='Epoch 314', max=10000000), HTML(value='')))"
      ]
     },
     "metadata": {},
     "output_type": "display_data"
    },
    {
     "name": "stdout",
     "output_type": "stream",
     "text": [
      "\n",
      "\n",
      "Epoch 00315: val_acc did not improve from 0.94407\n",
      "\n",
      "Epoch 00315: val_loss did not improve from 0.94943\n",
      "\n",
      "Epoch 00315: val_Le did not improve from 0.18444\n",
      "\n",
      "Epoch 00315: val_Lmu did not improve from 0.03322\n",
      "\n",
      "Epoch 00315: val_Ljet did not improve from 0.13837\n",
      "Updating weights...\n",
      "\tpredictions has been calculated.\n",
      "tau_vs_jet: bins changed = 223, average sf = 1.000579709136505\n",
      "tau_vs_e: bins changed = 230, average sf = 0.9972323097486041\n",
      "tau_vs_mu: bins changed = 116, average sf = 0.9861268034426703\n"
     ]
    },
    {
     "data": {
      "application/vnd.jupyter.widget-view+json": {
       "model_id": "558012d749bb445a88802d910ea9a9c4",
       "version_major": 2,
       "version_minor": 0
      },
      "text/plain": [
       "HBox(children=(IntProgress(value=0, description='Epoch 315', max=10000000), HTML(value='')))"
      ]
     },
     "metadata": {},
     "output_type": "display_data"
    },
    {
     "name": "stdout",
     "output_type": "stream",
     "text": [
      "\n",
      "\n",
      "Epoch 00316: val_acc did not improve from 0.94407\n",
      "\n",
      "Epoch 00316: val_loss did not improve from 0.94943\n",
      "\n",
      "Epoch 00316: val_Le did not improve from 0.18444\n",
      "\n",
      "Epoch 00316: val_Lmu did not improve from 0.03322\n",
      "\n",
      "Epoch 00316: val_Ljet did not improve from 0.13837\n",
      "Updating weights...\n",
      "\tpredictions has been calculated.\n",
      "tau_vs_jet: bins changed = 217, average sf = 1.0015823928114802\n",
      "tau_vs_e: bins changed = 183, average sf = 1.0024531853505643\n",
      "tau_vs_mu: bins changed = 76, average sf = 0.9808853091338863\n"
     ]
    },
    {
     "data": {
      "application/vnd.jupyter.widget-view+json": {
       "model_id": "0f4084b433f449598dfd31f65e21971e",
       "version_major": 2,
       "version_minor": 0
      },
      "text/plain": [
       "HBox(children=(IntProgress(value=0, description='Epoch 316', max=10000000), HTML(value='')))"
      ]
     },
     "metadata": {},
     "output_type": "display_data"
    },
    {
     "name": "stdout",
     "output_type": "stream",
     "text": [
      "\n",
      "\n",
      "Epoch 00317: val_acc did not improve from 0.94407\n",
      "\n",
      "Epoch 00317: val_loss did not improve from 0.94943\n",
      "\n",
      "Epoch 00317: val_Le did not improve from 0.18444\n",
      "\n",
      "Epoch 00317: val_Lmu did not improve from 0.03322\n",
      "\n",
      "Epoch 00317: val_Ljet did not improve from 0.13837\n",
      "Updating weights...\n",
      "\tpredictions has been calculated.\n",
      "tau_vs_jet: bins changed = 148, average sf = 1.0012911142687317\n",
      "tau_vs_e: bins changed = 202, average sf = 1.0001777765889315\n",
      "tau_vs_mu: bins changed = 143, average sf = 0.9808699242426023\n"
     ]
    },
    {
     "data": {
      "application/vnd.jupyter.widget-view+json": {
       "model_id": "08bd4836b4904bd19a751e6625267ae8",
       "version_major": 2,
       "version_minor": 0
      },
      "text/plain": [
       "HBox(children=(IntProgress(value=0, description='Epoch 317', max=10000000), HTML(value='')))"
      ]
     },
     "metadata": {},
     "output_type": "display_data"
    },
    {
     "name": "stdout",
     "output_type": "stream",
     "text": [
      "\n",
      "\n",
      "Epoch 00318: val_acc did not improve from 0.94407\n",
      "\n",
      "Epoch 00318: val_loss did not improve from 0.94943\n",
      "\n",
      "Epoch 00318: val_Le did not improve from 0.18444\n",
      "\n",
      "Epoch 00318: val_Lmu did not improve from 0.03322\n",
      "\n",
      "Epoch 00318: val_Ljet did not improve from 0.13837\n",
      "Starting pass 3\n",
      "Updating weights...\n",
      "\tpredictions has been calculated.\n",
      "tau_vs_jet: bins changed = 211, average sf = 0.9999114925545544\n",
      "tau_vs_e: bins changed = 237, average sf = 1.0000133858584255\n",
      "tau_vs_mu: bins changed = 77, average sf = 1.0196085742098604\n"
     ]
    },
    {
     "data": {
      "application/vnd.jupyter.widget-view+json": {
       "model_id": "8d085cdb9c594c4c92d094b8cc427324",
       "version_major": 2,
       "version_minor": 0
      },
      "text/plain": [
       "HBox(children=(IntProgress(value=0, description='Epoch 318', max=10000000), HTML(value='')))"
      ]
     },
     "metadata": {},
     "output_type": "display_data"
    },
    {
     "name": "stdout",
     "output_type": "stream",
     "text": [
      "\n",
      "\n",
      "Epoch 00319: val_acc did not improve from 0.94407\n",
      "\n",
      "Epoch 00319: val_loss did not improve from 0.94943\n",
      "\n",
      "Epoch 00319: val_Le did not improve from 0.18444\n",
      "\n",
      "Epoch 00319: val_Lmu did not improve from 0.03322\n",
      "\n",
      "Epoch 00319: val_Ljet did not improve from 0.13837\n",
      "Updating weights...\n",
      "\tpredictions has been calculated.\n",
      "tau_vs_jet: bins changed = 180, average sf = 1.000904385638412\n",
      "tau_vs_e: bins changed = 126, average sf = 0.9995698313902022\n",
      "tau_vs_mu: bins changed = 134, average sf = 0.9791901946696975\n"
     ]
    },
    {
     "data": {
      "application/vnd.jupyter.widget-view+json": {
       "model_id": "c4e0a583eb58441d8ed21b05ba549e8f",
       "version_major": 2,
       "version_minor": 0
      },
      "text/plain": [
       "HBox(children=(IntProgress(value=0, description='Epoch 319', max=10000000), HTML(value='')))"
      ]
     },
     "metadata": {},
     "output_type": "display_data"
    },
    {
     "name": "stdout",
     "output_type": "stream",
     "text": [
      "\n",
      "\n",
      "Epoch 00320: val_acc did not improve from 0.94407\n",
      "\n",
      "Epoch 00320: val_loss did not improve from 0.94943\n",
      "\n",
      "Epoch 00320: val_Le did not improve from 0.18444\n",
      "\n",
      "Epoch 00320: val_Lmu did not improve from 0.03322\n",
      "\n",
      "Epoch 00320: val_Ljet did not improve from 0.13837\n",
      "Updating weights...\n",
      "\tpredictions has been calculated.\n",
      "tau_vs_jet: bins changed = 190, average sf = 0.9997157109899137\n",
      "tau_vs_e: bins changed = 172, average sf = 0.999237347945575\n",
      "tau_vs_mu: bins changed = 60, average sf = 1.0280993829595424\n"
     ]
    },
    {
     "data": {
      "application/vnd.jupyter.widget-view+json": {
       "model_id": "e315a5a333dc45e9bedf9fc34c3cab6b",
       "version_major": 2,
       "version_minor": 0
      },
      "text/plain": [
       "HBox(children=(IntProgress(value=0, description='Epoch 320', max=10000000), HTML(value='')))"
      ]
     },
     "metadata": {},
     "output_type": "display_data"
    },
    {
     "name": "stdout",
     "output_type": "stream",
     "text": [
      "\n",
      "\n",
      "Epoch 00321: val_acc did not improve from 0.94407\n",
      "\n",
      "Epoch 00321: val_loss did not improve from 0.94943\n",
      "\n",
      "Epoch 00321: val_Le did not improve from 0.18444\n",
      "\n",
      "Epoch 00321: val_Lmu did not improve from 0.03322\n",
      "\n",
      "Epoch 00321: val_Ljet did not improve from 0.13837\n",
      "Updating weights...\n",
      "\tpredictions has been calculated.\n",
      "tau_vs_jet: bins changed = 205, average sf = 1.0001912991721027\n",
      "tau_vs_e: bins changed = 205, average sf = 1.0007872179634005\n",
      "tau_vs_mu: bins changed = 109, average sf = 0.9947897693239592\n"
     ]
    },
    {
     "data": {
      "application/vnd.jupyter.widget-view+json": {
       "model_id": "28120663a1df45b691bebd71bf31850b",
       "version_major": 2,
       "version_minor": 0
      },
      "text/plain": [
       "HBox(children=(IntProgress(value=0, description='Epoch 321', max=10000000), HTML(value='')))"
      ]
     },
     "metadata": {},
     "output_type": "display_data"
    },
    {
     "name": "stdout",
     "output_type": "stream",
     "text": [
      "\n",
      "\n",
      "Epoch 00322: val_acc did not improve from 0.94407\n",
      "\n",
      "Epoch 00322: val_loss did not improve from 0.94943\n",
      "\n",
      "Epoch 00322: val_Le did not improve from 0.18444\n",
      "\n",
      "Epoch 00322: val_Lmu did not improve from 0.03322\n",
      "\n",
      "Epoch 00322: val_Ljet did not improve from 0.13837\n",
      "Updating weights...\n",
      "\tpredictions has been calculated.\n",
      "tau_vs_jet: bins changed = 141, average sf = 1.0007493349389354\n",
      "tau_vs_e: bins changed = 200, average sf = 0.9992108444759523\n",
      "tau_vs_mu: bins changed = 51, average sf = 1.0150298103779842\n"
     ]
    },
    {
     "data": {
      "application/vnd.jupyter.widget-view+json": {
       "model_id": "4b4034eb44d34723bf1e38419dfdd1ec",
       "version_major": 2,
       "version_minor": 0
      },
      "text/plain": [
       "HBox(children=(IntProgress(value=0, description='Epoch 322', max=10000000), HTML(value='')))"
      ]
     },
     "metadata": {},
     "output_type": "display_data"
    },
    {
     "name": "stdout",
     "output_type": "stream",
     "text": [
      "\n",
      "\n",
      "Epoch 00323: val_acc did not improve from 0.94407\n",
      "\n",
      "Epoch 00323: val_loss did not improve from 0.94943\n",
      "\n",
      "Epoch 00323: val_Le did not improve from 0.18444\n",
      "\n",
      "Epoch 00323: val_Lmu did not improve from 0.03322\n",
      "\n",
      "Epoch 00323: val_Ljet did not improve from 0.13837\n",
      "Updating weights...\n",
      "\tpredictions has been calculated.\n",
      "tau_vs_jet: bins changed = 203, average sf = 1.0015579344751318\n",
      "tau_vs_e: bins changed = 163, average sf = 1.0021683654236353\n",
      "tau_vs_mu: bins changed = 104, average sf = 0.9977202646939636\n"
     ]
    },
    {
     "data": {
      "application/vnd.jupyter.widget-view+json": {
       "model_id": "06030c96b56842f2915bd58500258483",
       "version_major": 2,
       "version_minor": 0
      },
      "text/plain": [
       "HBox(children=(IntProgress(value=0, description='Epoch 323', max=10000000), HTML(value='')))"
      ]
     },
     "metadata": {},
     "output_type": "display_data"
    },
    {
     "name": "stdout",
     "output_type": "stream",
     "text": [
      "\n",
      "\n",
      "Epoch 00324: val_acc did not improve from 0.94407\n",
      "\n",
      "Epoch 00324: val_loss did not improve from 0.94943\n",
      "\n",
      "Epoch 00324: val_Le did not improve from 0.18444\n",
      "\n",
      "Epoch 00324: val_Lmu did not improve from 0.03322\n",
      "\n",
      "Epoch 00324: val_Ljet did not improve from 0.13837\n",
      "Starting pass 4\n",
      "Updating weights...\n",
      "\tpredictions has been calculated.\n",
      "tau_vs_jet: bins changed = 200, average sf = 0.9983307692691845\n",
      "tau_vs_e: bins changed = 91, average sf = 1.0030462327644443\n",
      "tau_vs_mu: bins changed = 43, average sf = 0.9960184249316769\n"
     ]
    },
    {
     "data": {
      "application/vnd.jupyter.widget-view+json": {
       "model_id": "f58cda91e9af4b3997b56b06efa33efc",
       "version_major": 2,
       "version_minor": 0
      },
      "text/plain": [
       "HBox(children=(IntProgress(value=0, description='Epoch 324', max=10000000), HTML(value='')))"
      ]
     },
     "metadata": {},
     "output_type": "display_data"
    },
    {
     "name": "stdout",
     "output_type": "stream",
     "text": [
      "\n",
      "\n",
      "Epoch 00325: val_acc did not improve from 0.94407\n",
      "\n",
      "Epoch 00325: val_loss did not improve from 0.94943\n",
      "\n",
      "Epoch 00325: val_Le did not improve from 0.18444\n",
      "\n",
      "Epoch 00325: val_Lmu did not improve from 0.03322\n",
      "\n",
      "Epoch 00325: val_Ljet improved from 0.13837 to 0.13822, saving model to 20L1024N50D_relu_0723_s1p2_Ljet.hdf5\n",
      "Updating weights...\n",
      "\tpredictions has been calculated.\n",
      "tau_vs_jet: bins changed = 178, average sf = 1.0010947368170187\n",
      "tau_vs_e: bins changed = 196, average sf = 1.0003862485189412\n",
      "tau_vs_mu: bins changed = 71, average sf = 1.047295321794613\n"
     ]
    },
    {
     "data": {
      "application/vnd.jupyter.widget-view+json": {
       "model_id": "41609e5022dd4114921f7600fcb4de3a",
       "version_major": 2,
       "version_minor": 0
      },
      "text/plain": [
       "HBox(children=(IntProgress(value=0, description='Epoch 325', max=10000000), HTML(value='')))"
      ]
     },
     "metadata": {},
     "output_type": "display_data"
    },
    {
     "name": "stdout",
     "output_type": "stream",
     "text": [
      "\n",
      "\n",
      "Epoch 00326: val_acc did not improve from 0.94407\n",
      "\n",
      "Epoch 00326: val_loss did not improve from 0.94943\n",
      "\n",
      "Epoch 00326: val_Le did not improve from 0.18444\n",
      "\n",
      "Epoch 00326: val_Lmu did not improve from 0.03322\n",
      "\n",
      "Epoch 00326: val_Ljet did not improve from 0.13822\n",
      "Updating weights...\n",
      "\tpredictions has been calculated.\n",
      "tau_vs_jet: bins changed = 277, average sf = 1.0000185739730447\n",
      "tau_vs_e: bins changed = 212, average sf = 1.0009839055408074\n",
      "tau_vs_mu: bins changed = 97, average sf = 1.0087175963981705\n"
     ]
    },
    {
     "data": {
      "application/vnd.jupyter.widget-view+json": {
       "model_id": "9d4e67ad8f5043d19dd6bbfa6e2be874",
       "version_major": 2,
       "version_minor": 0
      },
      "text/plain": [
       "HBox(children=(IntProgress(value=0, description='Epoch 326', max=10000000), HTML(value='')))"
      ]
     },
     "metadata": {},
     "output_type": "display_data"
    },
    {
     "name": "stdout",
     "output_type": "stream",
     "text": [
      "\n",
      "\n",
      "Epoch 00327: val_acc did not improve from 0.94407\n",
      "\n",
      "Epoch 00327: val_loss did not improve from 0.94943\n",
      "\n",
      "Epoch 00327: val_Le did not improve from 0.18444\n",
      "\n",
      "Epoch 00327: val_Lmu did not improve from 0.03322\n",
      "\n",
      "Epoch 00327: val_Ljet did not improve from 0.13822\n",
      "Updating weights...\n",
      "\tpredictions has been calculated.\n",
      "tau_vs_jet: bins changed = 230, average sf = 1.0005348875089217\n",
      "tau_vs_e: bins changed = 191, average sf = 1.000304064653224\n",
      "tau_vs_mu: bins changed = 80, average sf = 0.9802877925104188\n"
     ]
    },
    {
     "data": {
      "application/vnd.jupyter.widget-view+json": {
       "model_id": "fae3341d7f6d4a5892f350c0d2bf4522",
       "version_major": 2,
       "version_minor": 0
      },
      "text/plain": [
       "HBox(children=(IntProgress(value=0, description='Epoch 327', max=10000000), HTML(value='')))"
      ]
     },
     "metadata": {},
     "output_type": "display_data"
    },
    {
     "name": "stdout",
     "output_type": "stream",
     "text": [
      "\n",
      "\n",
      "Epoch 00328: val_acc did not improve from 0.94407\n",
      "\n",
      "Epoch 00328: val_loss did not improve from 0.94943\n",
      "\n",
      "Epoch 00328: val_Le did not improve from 0.18444\n",
      "\n",
      "Epoch 00328: val_Lmu did not improve from 0.03322\n",
      "\n",
      "Epoch 00328: val_Ljet did not improve from 0.13822\n",
      "Updating weights...\n",
      "\tpredictions has been calculated.\n",
      "tau_vs_jet: bins changed = 175, average sf = 1.0022509696266277\n",
      "tau_vs_e: bins changed = 199, average sf = 1.0006151774211411\n",
      "tau_vs_mu: bins changed = 108, average sf = 0.9852014703591595\n"
     ]
    },
    {
     "data": {
      "application/vnd.jupyter.widget-view+json": {
       "model_id": "0ffd53c3122e48a58433c39a65fe2c3e",
       "version_major": 2,
       "version_minor": 0
      },
      "text/plain": [
       "HBox(children=(IntProgress(value=0, description='Epoch 328', max=10000000), HTML(value='')))"
      ]
     },
     "metadata": {},
     "output_type": "display_data"
    },
    {
     "name": "stdout",
     "output_type": "stream",
     "text": [
      "\n",
      "\n",
      "Epoch 00329: val_acc did not improve from 0.94407\n",
      "\n",
      "Epoch 00329: val_loss did not improve from 0.94943\n",
      "\n",
      "Epoch 00329: val_Le did not improve from 0.18444\n",
      "\n",
      "Epoch 00329: val_Lmu did not improve from 0.03322\n",
      "\n",
      "Epoch 00329: val_Ljet did not improve from 0.13822\n",
      "Updating weights...\n",
      "\tpredictions has been calculated.\n",
      "tau_vs_jet: bins changed = 188, average sf = 1.0007063142318615\n",
      "tau_vs_e: bins changed = 157, average sf = 1.0005071772765695\n",
      "tau_vs_mu: bins changed = 42, average sf = 1.041106467804227\n"
     ]
    },
    {
     "data": {
      "application/vnd.jupyter.widget-view+json": {
       "model_id": "09a63d211e1741e29c90205bfcb8e0d1",
       "version_major": 2,
       "version_minor": 0
      },
      "text/plain": [
       "HBox(children=(IntProgress(value=0, description='Epoch 329', max=10000000), HTML(value='')))"
      ]
     },
     "metadata": {},
     "output_type": "display_data"
    },
    {
     "name": "stdout",
     "output_type": "stream",
     "text": [
      "\n",
      "\n",
      "Epoch 00330: val_acc did not improve from 0.94407\n",
      "\n",
      "Epoch 00330: val_loss did not improve from 0.94943\n",
      "\n",
      "Epoch 00330: val_Le did not improve from 0.18444\n",
      "\n",
      "Epoch 00330: val_Lmu did not improve from 0.03322\n",
      "\n",
      "Epoch 00330: val_Ljet did not improve from 0.13822\n",
      "Starting pass 5\n",
      "Updating weights...\n",
      "\tpredictions has been calculated.\n",
      "tau_vs_jet: bins changed = 197, average sf = 1.0011435021536905\n",
      "tau_vs_e: bins changed = 248, average sf = 0.9993922078340277\n",
      "tau_vs_mu: bins changed = 85, average sf = 0.9964812498925418\n"
     ]
    },
    {
     "data": {
      "application/vnd.jupyter.widget-view+json": {
       "model_id": "726596d9c71d4ea18ecde38152c33493",
       "version_major": 2,
       "version_minor": 0
      },
      "text/plain": [
       "HBox(children=(IntProgress(value=0, description='Epoch 330', max=10000000), HTML(value='')))"
      ]
     },
     "metadata": {},
     "output_type": "display_data"
    },
    {
     "name": "stdout",
     "output_type": "stream",
     "text": [
      "\n",
      "\n",
      "Epoch 00331: val_acc did not improve from 0.94407\n",
      "\n",
      "Epoch 00331: val_loss improved from 0.94943 to 0.91564, saving model to 20L1024N50D_relu_0723_s1p2_loss.hdf5\n",
      "\n",
      "Epoch 00331: val_Le did not improve from 0.18444\n",
      "\n",
      "Epoch 00331: val_Lmu improved from 0.03322 to 0.03285, saving model to 20L1024N50D_relu_0723_s1p2_Lmu.hdf5\n",
      "\n",
      "Epoch 00331: val_Ljet improved from 0.13822 to 0.13106, saving model to 20L1024N50D_relu_0723_s1p2_Ljet.hdf5\n",
      "Updating weights...\n",
      "\tpredictions has been calculated.\n",
      "tau_vs_jet: bins changed = 177, average sf = 1.0014624180371012\n",
      "tau_vs_e: bins changed = 141, average sf = 0.9970160458544953\n",
      "tau_vs_mu: bins changed = 90, average sf = 0.97558059508883\n"
     ]
    },
    {
     "data": {
      "application/vnd.jupyter.widget-view+json": {
       "model_id": "0a089f25130c4e99b6400b5e9c42928a",
       "version_major": 2,
       "version_minor": 0
      },
      "text/plain": [
       "HBox(children=(IntProgress(value=0, description='Epoch 331', max=10000000), HTML(value='')))"
      ]
     },
     "metadata": {},
     "output_type": "display_data"
    },
    {
     "name": "stdout",
     "output_type": "stream",
     "text": [
      "\n",
      "\n",
      "Epoch 00332: val_acc did not improve from 0.94407\n",
      "\n",
      "Epoch 00332: val_loss did not improve from 0.91564\n",
      "\n",
      "Epoch 00332: val_Le did not improve from 0.18444\n",
      "\n",
      "Epoch 00332: val_Lmu did not improve from 0.03285\n",
      "\n",
      "Epoch 00332: val_Ljet did not improve from 0.13106\n",
      "Updating weights...\n",
      "\tpredictions has been calculated.\n",
      "tau_vs_jet: bins changed = 151, average sf = 0.9957332370349988\n",
      "tau_vs_e: bins changed = 106, average sf = 1.008665558882942\n",
      "tau_vs_mu: bins changed = 43, average sf = 1.034226406695088\n"
     ]
    },
    {
     "data": {
      "application/vnd.jupyter.widget-view+json": {
       "model_id": "4ba98cf1e3b34a85996ff7161fe8fa61",
       "version_major": 2,
       "version_minor": 0
      },
      "text/plain": [
       "HBox(children=(IntProgress(value=0, description='Epoch 332', max=10000000), HTML(value='')))"
      ]
     },
     "metadata": {},
     "output_type": "display_data"
    },
    {
     "name": "stdout",
     "output_type": "stream",
     "text": [
      "\n",
      "\n",
      "Epoch 00333: val_acc did not improve from 0.94407\n",
      "\n",
      "Epoch 00333: val_loss did not improve from 0.91564\n",
      "\n",
      "Epoch 00333: val_Le did not improve from 0.18444\n",
      "\n",
      "Epoch 00333: val_Lmu did not improve from 0.03285\n",
      "\n",
      "Epoch 00333: val_Ljet did not improve from 0.13106\n",
      "Updating weights...\n",
      "\tpredictions has been calculated.\n",
      "tau_vs_jet: bins changed = 248, average sf = 1.0000871915648\n",
      "tau_vs_e: bins changed = 93, average sf = 0.9993744007168991\n",
      "tau_vs_mu: bins changed = 81, average sf = 1.007883823856022\n"
     ]
    },
    {
     "data": {
      "application/vnd.jupyter.widget-view+json": {
       "model_id": "4558efa904964dd78dcd4ea0029ddd50",
       "version_major": 2,
       "version_minor": 0
      },
      "text/plain": [
       "HBox(children=(IntProgress(value=0, description='Epoch 333', max=10000000), HTML(value='')))"
      ]
     },
     "metadata": {},
     "output_type": "display_data"
    },
    {
     "name": "stdout",
     "output_type": "stream",
     "text": [
      "\n",
      "\n",
      "Epoch 00334: val_acc did not improve from 0.94407\n",
      "\n",
      "Epoch 00334: val_loss did not improve from 0.91564\n",
      "\n",
      "Epoch 00334: val_Le did not improve from 0.18444\n",
      "\n",
      "Epoch 00334: val_Lmu did not improve from 0.03285\n",
      "\n",
      "Epoch 00334: val_Ljet did not improve from 0.13106\n",
      "Updating weights...\n",
      "\tpredictions has been calculated.\n",
      "tau_vs_jet: bins changed = 171, average sf = 0.9991080275203794\n",
      "tau_vs_e: bins changed = 170, average sf = 1.0001086587094539\n",
      "tau_vs_mu: bins changed = 96, average sf = 0.9946759533317512\n"
     ]
    },
    {
     "data": {
      "application/vnd.jupyter.widget-view+json": {
       "model_id": "21efd5f2760148cd84f15f5e8bd053ae",
       "version_major": 2,
       "version_minor": 0
      },
      "text/plain": [
       "HBox(children=(IntProgress(value=0, description='Epoch 334', max=10000000), HTML(value='')))"
      ]
     },
     "metadata": {},
     "output_type": "display_data"
    },
    {
     "name": "stdout",
     "output_type": "stream",
     "text": [
      "\n",
      "\n",
      "Epoch 00335: val_acc did not improve from 0.94407\n",
      "\n",
      "Epoch 00335: val_loss did not improve from 0.91564\n",
      "\n",
      "Epoch 00335: val_Le did not improve from 0.18444\n",
      "\n",
      "Epoch 00335: val_Lmu improved from 0.03285 to 0.03246, saving model to 20L1024N50D_relu_0723_s1p2_Lmu.hdf5\n",
      "\n",
      "Epoch 00335: val_Ljet did not improve from 0.13106\n",
      "Updating weights...\n",
      "\tpredictions has been calculated.\n",
      "tau_vs_jet: bins changed = 187, average sf = 1.001711167206458\n",
      "tau_vs_e: bins changed = 126, average sf = 0.9990340153142002\n",
      "tau_vs_mu: bins changed = 164, average sf = 0.9798551265579325\n"
     ]
    },
    {
     "data": {
      "application/vnd.jupyter.widget-view+json": {
       "model_id": "99fa0619ec72440a8f6a956b297002ae",
       "version_major": 2,
       "version_minor": 0
      },
      "text/plain": [
       "HBox(children=(IntProgress(value=0, description='Epoch 335', max=10000000), HTML(value='')))"
      ]
     },
     "metadata": {},
     "output_type": "display_data"
    },
    {
     "name": "stdout",
     "output_type": "stream",
     "text": [
      "\n",
      "\n",
      "Epoch 00336: val_acc did not improve from 0.94407\n",
      "\n",
      "Epoch 00336: val_loss did not improve from 0.91564\n",
      "\n",
      "Epoch 00336: val_Le did not improve from 0.18444\n",
      "\n",
      "Epoch 00336: val_Lmu did not improve from 0.03246\n",
      "\n",
      "Epoch 00336: val_Ljet did not improve from 0.13106\n",
      "Starting pass 6\n",
      "Updating weights...\n",
      "\tpredictions has been calculated.\n",
      "tau_vs_jet: bins changed = 135, average sf = 1.0007538536948328\n",
      "tau_vs_e: bins changed = 156, average sf = 1.0020179474335267\n",
      "tau_vs_mu: bins changed = 166, average sf = 0.9823635235800525\n"
     ]
    },
    {
     "data": {
      "application/vnd.jupyter.widget-view+json": {
       "model_id": "75cafa39fca34f4eb7cd3efde1bd5ddf",
       "version_major": 2,
       "version_minor": 0
      },
      "text/plain": [
       "HBox(children=(IntProgress(value=0, description='Epoch 336', max=10000000), HTML(value='')))"
      ]
     },
     "metadata": {},
     "output_type": "display_data"
    },
    {
     "name": "stdout",
     "output_type": "stream",
     "text": [
      "\n",
      "\n",
      "Epoch 00337: val_acc did not improve from 0.94407\n",
      "\n",
      "Epoch 00337: val_loss did not improve from 0.91564\n",
      "\n",
      "Epoch 00337: val_Le did not improve from 0.18444\n",
      "\n",
      "Epoch 00337: val_Lmu did not improve from 0.03246\n",
      "\n",
      "Epoch 00337: val_Ljet did not improve from 0.13106\n",
      "Updating weights...\n",
      "\tpredictions has been calculated.\n",
      "tau_vs_jet: bins changed = 250, average sf = 1.0008506621589672\n",
      "tau_vs_e: bins changed = 227, average sf = 1.0005894091198795\n",
      "tau_vs_mu: bins changed = 72, average sf = 1.005485527370772\n"
     ]
    },
    {
     "data": {
      "application/vnd.jupyter.widget-view+json": {
       "model_id": "2103bb18348b4b5499fb5a7a3004774f",
       "version_major": 2,
       "version_minor": 0
      },
      "text/plain": [
       "HBox(children=(IntProgress(value=0, description='Epoch 337', max=10000000), HTML(value='')))"
      ]
     },
     "metadata": {},
     "output_type": "display_data"
    },
    {
     "name": "stdout",
     "output_type": "stream",
     "text": [
      "\n",
      "\n",
      "Epoch 00338: val_acc improved from 0.94407 to 0.95059, saving model to 20L1024N50D_relu_0723_s1p2_acc.hdf5\n",
      "\n",
      "Epoch 00338: val_loss did not improve from 0.91564\n",
      "\n",
      "Epoch 00338: val_Le improved from 0.18444 to 0.18430, saving model to 20L1024N50D_relu_0723_s1p2_Le.hdf5\n",
      "\n",
      "Epoch 00338: val_Lmu improved from 0.03246 to 0.03137, saving model to 20L1024N50D_relu_0723_s1p2_Lmu.hdf5\n",
      "\n",
      "Epoch 00338: val_Ljet did not improve from 0.13106\n",
      "Updating weights...\n",
      "\tpredictions has been calculated.\n",
      "tau_vs_jet: bins changed = 123, average sf = 1.0001081973909047\n",
      "tau_vs_e: bins changed = 97, average sf = 1.0022468179610595\n",
      "tau_vs_mu: bins changed = 127, average sf = 1.0101484115258819\n"
     ]
    },
    {
     "data": {
      "application/vnd.jupyter.widget-view+json": {
       "model_id": "95ccf41e50734eb4b1543848d2c09400",
       "version_major": 2,
       "version_minor": 0
      },
      "text/plain": [
       "HBox(children=(IntProgress(value=0, description='Epoch 338', max=10000000), HTML(value='')))"
      ]
     },
     "metadata": {},
     "output_type": "display_data"
    },
    {
     "name": "stdout",
     "output_type": "stream",
     "text": [
      "\n",
      "\n",
      "Epoch 00339: val_acc did not improve from 0.95059\n",
      "\n",
      "Epoch 00339: val_loss did not improve from 0.91564\n",
      "\n",
      "Epoch 00339: val_Le did not improve from 0.18430\n",
      "\n",
      "Epoch 00339: val_Lmu did not improve from 0.03137\n",
      "\n",
      "Epoch 00339: val_Ljet did not improve from 0.13106\n",
      "Updating weights...\n",
      "\tpredictions has been calculated.\n",
      "tau_vs_jet: bins changed = 197, average sf = 1.0027858131676546\n",
      "tau_vs_e: bins changed = 260, average sf = 0.9993058855765352\n",
      "tau_vs_mu: bins changed = 96, average sf = 1.017149612606698\n"
     ]
    },
    {
     "data": {
      "application/vnd.jupyter.widget-view+json": {
       "model_id": "44c34d54380f45b6a61202c5ea26d7b5",
       "version_major": 2,
       "version_minor": 0
      },
      "text/plain": [
       "HBox(children=(IntProgress(value=0, description='Epoch 339', max=10000000), HTML(value='')))"
      ]
     },
     "metadata": {},
     "output_type": "display_data"
    },
    {
     "name": "stdout",
     "output_type": "stream",
     "text": [
      "\n",
      "\n",
      "Epoch 00340: val_acc did not improve from 0.95059\n",
      "\n",
      "Epoch 00340: val_loss did not improve from 0.91564\n",
      "\n",
      "Epoch 00340: val_Le did not improve from 0.18430\n",
      "\n",
      "Epoch 00340: val_Lmu did not improve from 0.03137\n",
      "\n",
      "Epoch 00340: val_Ljet did not improve from 0.13106\n",
      "Updating weights...\n",
      "\tpredictions has been calculated.\n",
      "tau_vs_jet: bins changed = 191, average sf = 1.0003428453830263\n",
      "tau_vs_e: bins changed = 207, average sf = 0.9993100182305839\n",
      "tau_vs_mu: bins changed = 105, average sf = 0.9881266203589182\n"
     ]
    },
    {
     "data": {
      "application/vnd.jupyter.widget-view+json": {
       "model_id": "92065c7465b34f3d819dbe865699e1b0",
       "version_major": 2,
       "version_minor": 0
      },
      "text/plain": [
       "HBox(children=(IntProgress(value=0, description='Epoch 340', max=10000000), HTML(value='')))"
      ]
     },
     "metadata": {},
     "output_type": "display_data"
    },
    {
     "name": "stdout",
     "output_type": "stream",
     "text": [
      "\n",
      "\n",
      "Epoch 00341: val_acc did not improve from 0.95059\n",
      "\n",
      "Epoch 00341: val_loss did not improve from 0.91564\n",
      "\n",
      "Epoch 00341: val_Le did not improve from 0.18430\n",
      "\n",
      "Epoch 00341: val_Lmu did not improve from 0.03137\n",
      "\n",
      "Epoch 00341: val_Ljet did not improve from 0.13106\n",
      "Updating weights...\n",
      "\tpredictions has been calculated.\n",
      "tau_vs_jet: bins changed = 214, average sf = 1.002291333196693\n",
      "tau_vs_e: bins changed = 158, average sf = 1.0005905021693575\n",
      "tau_vs_mu: bins changed = 45, average sf = 0.987650027049641\n"
     ]
    },
    {
     "data": {
      "application/vnd.jupyter.widget-view+json": {
       "model_id": "ee2e050841a64aeda81bac011bddd060",
       "version_major": 2,
       "version_minor": 0
      },
      "text/plain": [
       "HBox(children=(IntProgress(value=0, description='Epoch 341', max=10000000), HTML(value='')))"
      ]
     },
     "metadata": {},
     "output_type": "display_data"
    },
    {
     "name": "stdout",
     "output_type": "stream",
     "text": [
      "\n",
      "\n",
      "Epoch 00342: val_acc did not improve from 0.95059\n",
      "\n",
      "Epoch 00342: val_loss did not improve from 0.91564\n",
      "\n",
      "Epoch 00342: val_Le did not improve from 0.18430\n",
      "\n",
      "Epoch 00342: val_Lmu did not improve from 0.03137\n",
      "\n",
      "Epoch 00342: val_Ljet did not improve from 0.13106\n",
      "Starting pass 7\n",
      "Updating weights...\n",
      "\tpredictions has been calculated.\n",
      "tau_vs_jet: bins changed = 179, average sf = 1.002239962050933\n",
      "tau_vs_e: bins changed = 188, average sf = 1.0020791298204188\n",
      "tau_vs_mu: bins changed = 129, average sf = 0.9746066064354635\n"
     ]
    },
    {
     "data": {
      "application/vnd.jupyter.widget-view+json": {
       "model_id": "e698c5c20bad437fb17d6b4d9ef21195",
       "version_major": 2,
       "version_minor": 0
      },
      "text/plain": [
       "HBox(children=(IntProgress(value=0, description='Epoch 342', max=10000000), HTML(value='')))"
      ]
     },
     "metadata": {},
     "output_type": "display_data"
    },
    {
     "name": "stdout",
     "output_type": "stream",
     "text": [
      "\n",
      "\n",
      "Epoch 00343: val_acc did not improve from 0.95059\n",
      "\n",
      "Epoch 00343: val_loss did not improve from 0.91564\n",
      "\n",
      "Epoch 00343: val_Le did not improve from 0.18430\n",
      "\n",
      "Epoch 00343: val_Lmu did not improve from 0.03137\n",
      "\n",
      "Epoch 00343: val_Ljet did not improve from 0.13106\n",
      "Updating weights...\n"
     ]
    },
    {
     "ename": "KeyboardInterrupt",
     "evalue": "",
     "output_type": "error",
     "traceback": [
      "\u001b[1;31m---------------------------------------------------------------------------\u001b[0m",
      "\u001b[1;31mKeyboardInterrupt\u001b[0m                         Traceback (most recent call last)",
      "\u001b[1;32m<ipython-input-14-3ff0651b1e4e>\u001b[0m in \u001b[0;36m<module>\u001b[1;34m()\u001b[0m\n\u001b[0;32m      1\u001b[0m \u001b[1;31m#run_training('0723_s1', model_name, 0, 50)\u001b[0m\u001b[1;33m\u001b[0m\u001b[1;33m\u001b[0m\u001b[0m\n\u001b[1;32m----> 2\u001b[1;33m \u001b[0mrun_training\u001b[0m\u001b[1;33m(\u001b[0m\u001b[1;34m'0723_s1p2'\u001b[0m\u001b[1;33m,\u001b[0m \u001b[0mmodel_name\u001b[0m\u001b[1;33m,\u001b[0m \u001b[1;36m300\u001b[0m\u001b[1;33m,\u001b[0m \u001b[1;36m50\u001b[0m\u001b[1;33m)\u001b[0m\u001b[1;33m\u001b[0m\u001b[0m\n\u001b[0m",
      "\u001b[1;32m<ipython-input-13-6481d32b6666>\u001b[0m in \u001b[0;36mrun_training\u001b[1;34m(train_suffix, model_name, epoch, n_pass)\u001b[0m\n\u001b[0;32m     29\u001b[0m                 \u001b[0mprint\u001b[0m\u001b[1;33m(\u001b[0m\u001b[1;34m\"Updating weights...\"\u001b[0m\u001b[1;33m)\u001b[0m\u001b[1;33m\u001b[0m\u001b[0m\n\u001b[0;32m     30\u001b[0m                 weightManager.UpdateWeights(model, epoch, X, pos, n_per_step,\n\u001b[1;32m---> 31\u001b[1;33m                                             [('jet', 0.6), ('e', 0.6), ('mu', 0.9)])\n\u001b[0m\u001b[0;32m     32\u001b[0m \u001b[1;33m\u001b[0m\u001b[0m\n\u001b[0;32m     33\u001b[0m             val_data = ([X[n_train:n_train+n_test, :], weightManager.GetWeights(n_train, n_train+n_test)],\n",
      "\u001b[1;32mM:\\workspace\\tau-ml\\TauML\\Analysis\\python\\WeightManager.py\u001b[0m in \u001b[0;36mUpdateWeights\u001b[1;34m(self, model, epoch, X, test_start, n_test, class_target_eff, batch_size)\u001b[0m\n\u001b[0;32m    143\u001b[0m     \u001b[1;32mdef\u001b[0m \u001b[0mUpdateWeights\u001b[0m\u001b[1;33m(\u001b[0m\u001b[0mself\u001b[0m\u001b[1;33m,\u001b[0m \u001b[0mmodel\u001b[0m\u001b[1;33m,\u001b[0m \u001b[0mepoch\u001b[0m\u001b[1;33m,\u001b[0m \u001b[0mX\u001b[0m\u001b[1;33m,\u001b[0m \u001b[0mtest_start\u001b[0m\u001b[1;33m,\u001b[0m \u001b[0mn_test\u001b[0m\u001b[1;33m,\u001b[0m \u001b[0mclass_target_eff\u001b[0m\u001b[1;33m,\u001b[0m \u001b[0mbatch_size\u001b[0m\u001b[1;33m=\u001b[0m\u001b[1;36m100000\u001b[0m\u001b[1;33m)\u001b[0m\u001b[1;33m:\u001b[0m\u001b[1;33m\u001b[0m\u001b[0m\n\u001b[0;32m    144\u001b[0m         pred = model.predict([X[test_start:test_start+n_test], self.GetWeights(test_start, test_start+n_test)],\n\u001b[1;32m--> 145\u001b[1;33m                              batch_size = batch_size, verbose=0)\n\u001b[0m\u001b[0;32m    146\u001b[0m         \u001b[0mprint\u001b[0m\u001b[1;33m(\u001b[0m\u001b[1;34m\"\\tpredictions has been calculated.\"\u001b[0m\u001b[1;33m)\u001b[0m\u001b[1;33m\u001b[0m\u001b[0m\n\u001b[0;32m    147\u001b[0m \u001b[1;33m\u001b[0m\u001b[0m\n",
      "\u001b[1;32m~\\AppData\\Roaming\\Python\\Python36\\site-packages\\keras\\engine\\training.py\u001b[0m in \u001b[0;36mpredict\u001b[1;34m(self, x, batch_size, verbose, steps)\u001b[0m\n\u001b[0;32m   1833\u001b[0m         \u001b[0mf\u001b[0m \u001b[1;33m=\u001b[0m \u001b[0mself\u001b[0m\u001b[1;33m.\u001b[0m\u001b[0mpredict_function\u001b[0m\u001b[1;33m\u001b[0m\u001b[0m\n\u001b[0;32m   1834\u001b[0m         return self._predict_loop(f, ins, batch_size=batch_size,\n\u001b[1;32m-> 1835\u001b[1;33m                                   verbose=verbose, steps=steps)\n\u001b[0m\u001b[0;32m   1836\u001b[0m \u001b[1;33m\u001b[0m\u001b[0m\n\u001b[0;32m   1837\u001b[0m     def train_on_batch(self, x, y,\n",
      "\u001b[1;32m~\\AppData\\Roaming\\Python\\Python36\\site-packages\\keras\\engine\\training.py\u001b[0m in \u001b[0;36m_predict_loop\u001b[1;34m(self, f, ins, batch_size, verbose, steps)\u001b[0m\n\u001b[0;32m   1323\u001b[0m                 \u001b[1;32mif\u001b[0m \u001b[0mins\u001b[0m \u001b[1;32mand\u001b[0m \u001b[0misinstance\u001b[0m\u001b[1;33m(\u001b[0m\u001b[0mins\u001b[0m\u001b[1;33m[\u001b[0m\u001b[1;33m-\u001b[0m\u001b[1;36m1\u001b[0m\u001b[1;33m]\u001b[0m\u001b[1;33m,\u001b[0m \u001b[0mfloat\u001b[0m\u001b[1;33m)\u001b[0m\u001b[1;33m:\u001b[0m\u001b[1;33m\u001b[0m\u001b[0m\n\u001b[0;32m   1324\u001b[0m                     \u001b[1;31m# Do not slice the training phase flag.\u001b[0m\u001b[1;33m\u001b[0m\u001b[1;33m\u001b[0m\u001b[0m\n\u001b[1;32m-> 1325\u001b[1;33m                     \u001b[0mins_batch\u001b[0m \u001b[1;33m=\u001b[0m \u001b[0m_slice_arrays\u001b[0m\u001b[1;33m(\u001b[0m\u001b[0mins\u001b[0m\u001b[1;33m[\u001b[0m\u001b[1;33m:\u001b[0m\u001b[1;33m-\u001b[0m\u001b[1;36m1\u001b[0m\u001b[1;33m]\u001b[0m\u001b[1;33m,\u001b[0m \u001b[0mbatch_ids\u001b[0m\u001b[1;33m)\u001b[0m \u001b[1;33m+\u001b[0m \u001b[1;33m[\u001b[0m\u001b[0mins\u001b[0m\u001b[1;33m[\u001b[0m\u001b[1;33m-\u001b[0m\u001b[1;36m1\u001b[0m\u001b[1;33m]\u001b[0m\u001b[1;33m]\u001b[0m\u001b[1;33m\u001b[0m\u001b[0m\n\u001b[0m\u001b[0;32m   1326\u001b[0m                 \u001b[1;32melse\u001b[0m\u001b[1;33m:\u001b[0m\u001b[1;33m\u001b[0m\u001b[0m\n\u001b[0;32m   1327\u001b[0m                     \u001b[0mins_batch\u001b[0m \u001b[1;33m=\u001b[0m \u001b[0m_slice_arrays\u001b[0m\u001b[1;33m(\u001b[0m\u001b[0mins\u001b[0m\u001b[1;33m,\u001b[0m \u001b[0mbatch_ids\u001b[0m\u001b[1;33m)\u001b[0m\u001b[1;33m\u001b[0m\u001b[0m\n",
      "\u001b[1;32m~\\AppData\\Roaming\\Python\\Python36\\site-packages\\keras\\engine\\training.py\u001b[0m in \u001b[0;36m_slice_arrays\u001b[1;34m(arrays, start, stop)\u001b[0m\n\u001b[0;32m    383\u001b[0m             \u001b[1;32mif\u001b[0m \u001b[0mhasattr\u001b[0m\u001b[1;33m(\u001b[0m\u001b[0mstart\u001b[0m\u001b[1;33m,\u001b[0m \u001b[1;34m'shape'\u001b[0m\u001b[1;33m)\u001b[0m\u001b[1;33m:\u001b[0m\u001b[1;33m\u001b[0m\u001b[0m\n\u001b[0;32m    384\u001b[0m                 \u001b[0mstart\u001b[0m \u001b[1;33m=\u001b[0m \u001b[0mstart\u001b[0m\u001b[1;33m.\u001b[0m\u001b[0mtolist\u001b[0m\u001b[1;33m(\u001b[0m\u001b[1;33m)\u001b[0m\u001b[1;33m\u001b[0m\u001b[0m\n\u001b[1;32m--> 385\u001b[1;33m             \u001b[1;32mreturn\u001b[0m \u001b[1;33m[\u001b[0m\u001b[1;32mNone\u001b[0m \u001b[1;32mif\u001b[0m \u001b[0mx\u001b[0m \u001b[1;32mis\u001b[0m \u001b[1;32mNone\u001b[0m \u001b[1;32melse\u001b[0m \u001b[0mx\u001b[0m\u001b[1;33m[\u001b[0m\u001b[0mstart\u001b[0m\u001b[1;33m]\u001b[0m \u001b[1;32mfor\u001b[0m \u001b[0mx\u001b[0m \u001b[1;32min\u001b[0m \u001b[0marrays\u001b[0m\u001b[1;33m]\u001b[0m\u001b[1;33m\u001b[0m\u001b[0m\n\u001b[0m\u001b[0;32m    386\u001b[0m         \u001b[1;32melse\u001b[0m\u001b[1;33m:\u001b[0m\u001b[1;33m\u001b[0m\u001b[0m\n\u001b[0;32m    387\u001b[0m             \u001b[1;32mreturn\u001b[0m \u001b[1;33m[\u001b[0m\u001b[1;32mNone\u001b[0m \u001b[1;32mif\u001b[0m \u001b[0mx\u001b[0m \u001b[1;32mis\u001b[0m \u001b[1;32mNone\u001b[0m \u001b[1;32melse\u001b[0m \u001b[0mx\u001b[0m\u001b[1;33m[\u001b[0m\u001b[0mstart\u001b[0m\u001b[1;33m:\u001b[0m\u001b[0mstop\u001b[0m\u001b[1;33m]\u001b[0m \u001b[1;32mfor\u001b[0m \u001b[0mx\u001b[0m \u001b[1;32min\u001b[0m \u001b[0marrays\u001b[0m\u001b[1;33m]\u001b[0m\u001b[1;33m\u001b[0m\u001b[0m\n",
      "\u001b[1;32m~\\AppData\\Roaming\\Python\\Python36\\site-packages\\keras\\engine\\training.py\u001b[0m in \u001b[0;36m<listcomp>\u001b[1;34m(.0)\u001b[0m\n\u001b[0;32m    383\u001b[0m             \u001b[1;32mif\u001b[0m \u001b[0mhasattr\u001b[0m\u001b[1;33m(\u001b[0m\u001b[0mstart\u001b[0m\u001b[1;33m,\u001b[0m \u001b[1;34m'shape'\u001b[0m\u001b[1;33m)\u001b[0m\u001b[1;33m:\u001b[0m\u001b[1;33m\u001b[0m\u001b[0m\n\u001b[0;32m    384\u001b[0m                 \u001b[0mstart\u001b[0m \u001b[1;33m=\u001b[0m \u001b[0mstart\u001b[0m\u001b[1;33m.\u001b[0m\u001b[0mtolist\u001b[0m\u001b[1;33m(\u001b[0m\u001b[1;33m)\u001b[0m\u001b[1;33m\u001b[0m\u001b[0m\n\u001b[1;32m--> 385\u001b[1;33m             \u001b[1;32mreturn\u001b[0m \u001b[1;33m[\u001b[0m\u001b[1;32mNone\u001b[0m \u001b[1;32mif\u001b[0m \u001b[0mx\u001b[0m \u001b[1;32mis\u001b[0m \u001b[1;32mNone\u001b[0m \u001b[1;32melse\u001b[0m \u001b[0mx\u001b[0m\u001b[1;33m[\u001b[0m\u001b[0mstart\u001b[0m\u001b[1;33m]\u001b[0m \u001b[1;32mfor\u001b[0m \u001b[0mx\u001b[0m \u001b[1;32min\u001b[0m \u001b[0marrays\u001b[0m\u001b[1;33m]\u001b[0m\u001b[1;33m\u001b[0m\u001b[0m\n\u001b[0m\u001b[0;32m    386\u001b[0m         \u001b[1;32melse\u001b[0m\u001b[1;33m:\u001b[0m\u001b[1;33m\u001b[0m\u001b[0m\n\u001b[0;32m    387\u001b[0m             \u001b[1;32mreturn\u001b[0m \u001b[1;33m[\u001b[0m\u001b[1;32mNone\u001b[0m \u001b[1;32mif\u001b[0m \u001b[0mx\u001b[0m \u001b[1;32mis\u001b[0m \u001b[1;32mNone\u001b[0m \u001b[1;32melse\u001b[0m \u001b[0mx\u001b[0m\u001b[1;33m[\u001b[0m\u001b[0mstart\u001b[0m\u001b[1;33m:\u001b[0m\u001b[0mstop\u001b[0m\u001b[1;33m]\u001b[0m \u001b[1;32mfor\u001b[0m \u001b[0mx\u001b[0m \u001b[1;32min\u001b[0m \u001b[0marrays\u001b[0m\u001b[1;33m]\u001b[0m\u001b[1;33m\u001b[0m\u001b[0m\n",
      "\u001b[1;31mKeyboardInterrupt\u001b[0m: "
     ]
    }
   ],
   "source": [
    "#run_training('0723_s1', model_name, 0, 50)\n",
    "run_training('0723_s1p2', model_name, 300, 50)"
   ]
  },
  {
   "cell_type": "code",
   "execution_count": null,
   "metadata": {},
   "outputs": [],
   "source": []
  }
 ],
 "metadata": {
  "kernelspec": {
   "display_name": "Python 3",
   "language": "python",
   "name": "python3"
  },
  "language_info": {
   "codemirror_mode": {
    "name": "ipython",
    "version": 3
   },
   "file_extension": ".py",
   "mimetype": "text/x-python",
   "name": "python",
   "nbconvert_exporter": "python",
   "pygments_lexer": "ipython3",
   "version": "3.6.5"
  }
 },
 "nbformat": 4,
 "nbformat_minor": 2
}
